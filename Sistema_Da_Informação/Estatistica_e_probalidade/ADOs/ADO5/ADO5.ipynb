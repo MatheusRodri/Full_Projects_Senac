{
 "cells": [
  {
   "cell_type": "code",
   "execution_count": 1,
   "metadata": {
    "id": "tLD7cC7ke2KH"
   },
   "outputs": [],
   "source": [
    "import pandas as pd\n",
    "import matplotlib.pyplot as plt\n",
    "import seaborn as sns\n",
    "import plotly.graph_objects as go\n",
    "import numpy as np\n",
    "from scipy.stats import binom, norm"
   ]
  },
  {
   "cell_type": "code",
   "execution_count": 2,
   "metadata": {
    "id": "fJ4o_BQre5dS"
   },
   "outputs": [],
   "source": [
    "df = pd.read_csv('./resultado_empilhado.csv')"
   ]
  },
  {
   "cell_type": "code",
   "execution_count": 3,
   "metadata": {
    "colab": {
     "base_uri": "https://localhost:8080/"
    },
    "executionInfo": {
     "elapsed": 38,
     "status": "ok",
     "timestamp": 1745453775672,
     "user": {
      "displayName": "Matheus Rodrigues de Jesus",
      "userId": "03296413948601591074"
     },
     "user_tz": 180
    },
    "id": "Jagqt9CEvUWL",
    "outputId": "17f269ab-222f-491c-83ce-604e41175823"
   },
   "outputs": [
    {
     "name": "stdout",
     "output_type": "stream",
     "text": [
      "Probabilidade de pelo menos 1 dos 10 filmes ganhar Oscar: 0.4750\n"
     ]
    }
   ],
   "source": [
    "df['oscars'] = pd.to_numeric(df['oscars'], errors='coerce')\n",
    "oscars = df['oscars'].dropna()\n",
    "\n",
    "# Calcular p = probabilidade de um filme ter pelo menos 1 Oscar\n",
    "p = (oscars >= 1).sum() / len(oscars)\n",
    "\n",
    "# Número de filmes\n",
    "n = 10\n",
    "\n",
    "# P(X >= 1) = 1 - P(X = 0)\n",
    "prob_pelo_menos_1 = 1 - binom.pmf(0, n, p)\n",
    "\n",
    "print(f\"Probabilidade de pelo menos 1 dos {n} filmes ganhar Oscar: {prob_pelo_menos_1:.4f}\")"
   ]
  },
  {
   "cell_type": "code",
   "execution_count": 4,
   "metadata": {
    "colab": {
     "base_uri": "https://localhost:8080/"
    },
    "executionInfo": {
     "elapsed": 26,
     "status": "ok",
     "timestamp": 1745447017595,
     "user": {
      "displayName": "Matheus Rodrigues de Jesus",
      "userId": "03296413948601591074"
     },
     "user_tz": 180
    },
    "id": "OIIgN2BnvOZx",
    "outputId": "30c97ba2-a4b3-4066-96d1-42c418a845a5"
   },
   "outputs": [
    {
     "name": "stdout",
     "output_type": "stream",
     "text": [
      "Probabilidade de um filme ter nota maior que 8: 0.0537\n"
     ]
    }
   ],
   "source": [
    "df['Rating'] = pd.to_numeric(df['Rating'], errors='coerce')\n",
    "ratings = df['Rating'].dropna()\n",
    "\n",
    "# Calcular média e desvio padrão\n",
    "mu_rating = ratings.mean()\n",
    "sigma_rating = ratings.std()\n",
    "\n",
    "# Calcular probabilidade de nota > 8\n",
    "limite_rating = 8\n",
    "prob_rating_maior_que_8 = 1 - norm.cdf(limite_rating, loc=mu_rating, scale=sigma_rating)\n",
    "\n",
    "print(f\"Probabilidade de um filme ter nota maior que {limite_rating}: {prob_rating_maior_que_8:.4f}\")\n"
   ]
  }
 ],
 "metadata": {
  "colab": {
   "authorship_tag": "ABX9TyPElxwxAUY7JfFJdSfI+MYV",
   "provenance": []
  },
  "kernelspec": {
   "display_name": "Python 3",
   "name": "python3"
  },
  "language_info": {
   "codemirror_mode": {
    "name": "ipython",
    "version": 3
   },
   "file_extension": ".py",
   "mimetype": "text/x-python",
   "name": "python",
   "nbconvert_exporter": "python",
   "pygments_lexer": "ipython3",
   "version": "3.12.10"
  }
 },
 "nbformat": 4,
 "nbformat_minor": 0
}
