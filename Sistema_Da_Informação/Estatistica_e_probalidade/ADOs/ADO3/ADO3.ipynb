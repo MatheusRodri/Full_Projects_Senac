{
 "cells": [
  {
   "cell_type": "markdown",
   "metadata": {
    "id": "wWLA_0CKZagj"
   },
   "source": [
    "# Observação:\n",
    "\n",
    "O dataset que escolhemos era separado por datas, então empilhamos os datasets em unico, deixando o estudo mais completo."
   ]
  },
  {
   "cell_type": "code",
   "execution_count": 11,
   "metadata": {
    "executionInfo": {
     "elapsed": 9,
     "status": "ok",
     "timestamp": 1741898810527,
     "user": {
      "displayName": "Matheus Rodrigues de Jesus",
      "userId": "03296413948601591074"
     },
     "user_tz": 180
    },
    "id": "n4QPKLiWZH6j"
   },
   "outputs": [],
   "source": [
    "import pandas as pd\n",
    "import matplotlib.pyplot as plt\n",
    "import seaborn as sns\n",
    "import plotly.graph_objects as go\n",
    "import statistics\n",
    "from scipy import stats"
   ]
  },
  {
   "cell_type": "markdown",
   "metadata": {
    "id": "3yfjcH6cZKRC"
   },
   "source": [
    "# Passo 1: Filtro dos dados\n",
    "\n",
    "Alguns campos do dataset original, possuem uma lista a função abaixo faz"
   ]
  },
  {
   "cell_type": "code",
   "execution_count": 2,
   "metadata": {
    "executionInfo": {
     "elapsed": 847,
     "status": "ok",
     "timestamp": 1741898812989,
     "user": {
      "displayName": "Matheus Rodrigues de Jesus",
      "userId": "03296413948601591074"
     },
     "user_tz": 180
    },
    "id": "YXzWfsIuv_A5"
   },
   "outputs": [],
   "source": [
    "dados = pd.read_csv('./resultado_empilhado.csv')"
   ]
  },
  {
   "cell_type": "code",
   "execution_count": 3,
   "metadata": {
    "executionInfo": {
     "elapsed": 3,
     "status": "ok",
     "timestamp": 1741898814402,
     "user": {
      "displayName": "Matheus Rodrigues de Jesus",
      "userId": "03296413948601591074"
     },
     "user_tz": 180
    },
    "id": "IpjJBOP7ClVw"
   },
   "outputs": [],
   "source": [
    "dados = dados[dados['Year'] == 2023]"
   ]
  },
  {
   "cell_type": "code",
   "execution_count": 12,
   "metadata": {
    "colab": {
     "base_uri": "https://localhost:8080/"
    },
    "executionInfo": {
     "elapsed": 27,
     "status": "ok",
     "timestamp": 1741898817782,
     "user": {
      "displayName": "Matheus Rodrigues de Jesus",
      "userId": "03296413948601591074"
     },
     "user_tz": 180
    },
    "id": "m8IJ4UFF7Es8",
    "outputId": "b403d448-d9e7-445d-9d12-5864bfa88ad7"
   },
   "outputs": [
    {
     "name": "stdout",
     "output_type": "stream",
     "text": [
      "\n",
      "Análise da variável: oscars\n",
      "  Média: 0.12\n",
      "  Mediana: 0.00\n",
      "  Moda: 0.00\n",
      "  Amplitude: 10.00\n",
      "  Q1: 0.00\n",
      "  Q3: 0.00\n",
      "  Desvio Padrão: 0.69\n",
      "  Assimetria: 9.57\n",
      "  Coeficiente de Variação: 581.54%\n",
      "\n",
      "Análise da variável: Rating\n",
      "  Média: 6.39\n",
      "  Mediana: 6.40\n",
      "  Moda: 6.40\n",
      "  Amplitude: 8.00\n",
      "  Q1: 5.80\n",
      "  Q3: 7.03\n",
      "  Desvio Padrão: 1.02\n",
      "  Assimetria: -0.42\n",
      "  Coeficiente de Variação: 15.90%\n",
      "\n",
      "Análise da variável: Votes\n",
      "  Média: 349.02\n",
      "  Mediana: 270.00\n",
      "  Moda: 83.00\n",
      "  Amplitude: 986.00\n",
      "  Q1: 111.00\n",
      "  Q3: 551.00\n",
      "  Desvio Padrão: 277.12\n",
      "  Assimetria: 0.69\n",
      "  Coeficiente de Variação: 79.40%\n",
      "\n",
      "Análise da variável: budget\n",
      "  Média: 266695394.14\n",
      "  Mediana: 30000000.00\n",
      "  Moda: 20000000.00\n",
      "  Amplitude: 27999999999.00\n",
      "  Q1: 9900000.00\n",
      "  Q3: 82500000.00\n",
      "  Desvio Padrão: 2174235042.73\n",
      "  Assimetria: 12.60\n",
      "  Coeficiente de Variação: 815.25%\n",
      "\n",
      "Análise da variável: grossWorldWide\n",
      "  Média: 43223407.27\n",
      "  Mediana: 1178149.00\n",
      "  Moda: 5880.00\n",
      "  Amplitude: 1446937140.00\n",
      "  Q1: 138617.00\n",
      "  Q3: 11958548.00\n",
      "  Desvio Padrão: 141986175.39\n",
      "  Assimetria: 5.79\n",
      "  Coeficiente de Variação: 328.49%\n"
     ]
    }
   ],
   "source": [
    "def analisar_dados(dados, variaveis):\n",
    "    for variavel in variaveis:\n",
    "        print(f\"\\nAnálise da variável: {variavel}\")\n",
    "\n",
    "        # Converter para numérico, tratando erros\n",
    "        dados[variavel] = pd.to_numeric(dados[variavel], errors='coerce')\n",
    "\n",
    "        # Remover NaN's após a conversão\n",
    "        dados_limpos = dados.dropna(subset=[variavel])\n",
    "\n",
    "        if dados_limpos[variavel].empty:\n",
    "            print(f\"  Não há dados numéricos válidos para {variavel}.\")\n",
    "            continue\n",
    "\n",
    "        media = dados_limpos[variavel].mean()\n",
    "        mediana = dados_limpos[variavel].median()\n",
    "        moda = stats.mode(dados_limpos[variavel], keepdims=True)\n",
    "        amplitude = dados_limpos[variavel].max() - dados_limpos[variavel].min()\n",
    "        q1 = dados_limpos[variavel].quantile(0.25)\n",
    "        q3 = dados_limpos[variavel].quantile(0.75)\n",
    "        desvio_padrao = dados_limpos[variavel].std()\n",
    "        assimetria = dados_limpos[variavel].skew()\n",
    "        coeficiente_variacao = (desvio_padrao / media) * 100 if media != 0 else np.nan\n",
    "\n",
    "        print(f\"  Média: {media:.2f}\")\n",
    "        print(f\"  Mediana: {mediana:.2f}\")\n",
    "        print(f\"  Moda: {moda.mode[0]:.2f}\")\n",
    "        print(f\"  Amplitude: {amplitude:.2f}\")\n",
    "        print(f\"  Q1: {q1:.2f}\")\n",
    "        print(f\"  Q3: {q3:.2f}\")\n",
    "        print(f\"  Desvio Padrão: {desvio_padrao:.2f}\")\n",
    "        print(f\"  Assimetria: {assimetria:.2f}\")\n",
    "        print(f\"  Coeficiente de Variação: {coeficiente_variacao:.2f}%\")\n",
    "\n",
    "variaveis_analise = ['oscars', 'Rating', 'Votes', 'budget', 'grossWorldWide']\n",
    "analisar_dados(dados.copy(), variaveis_analise)"
   ]
  },
  {
   "cell_type": "markdown",
   "metadata": {
    "id": "FFmlmQ0GPHqb"
   },
   "source": [
    "# Conclusões"
   ]
  },
  {
   "cell_type": "markdown",
   "metadata": {
    "id": "FRj4tJcrKJWD"
   },
   "source": [
    "1. Oscars:\n",
    "\n",
    "Distribuição Extremamente Assimétrica:<br/>\n",
    "A média de Oscars (0.12) é muito baixa, a mediana e a moda são zero, e a assimetria é extremamente alta (9.57). Isso indica que a grande maioria dos filmes não ganha nenhum Oscar, e apenas alguns filmes ganham chegam a ganhar muitos.<br/>\n",
    "O coeficiente de variação (581.54%) é altíssimo, o que confirma a grande dispersão dos dados.<br/>\n",
    "Conclusão:<br/>\n",
    "Ganhar um Oscar é um evento raro. A distribuição dos prêmios é altamente concentrada em um pequeno número de filmes.\n",
    "\n",
    "2. Rating (Avaliação):\n",
    "\n",
    "Distribuição Relativamente Simétrica:<br/>\n",
    "A média (6.39) e a mediana (6.40) são muito próximas, o que indica uma distribuição relativamente simétrica.<br/>\n",
    "A assimetria (-0.42) é baixa, o que confirma a simetria.<br/>\n",
    "O coeficiente de variação é baixo, portanto os dados são bem concentrados.<br/>\n",
    "Conclusão:<br/>\n",
    "As avaliações dos filmes tendem a se concentrar em torno da média, com pouca variação.\n",
    "3. Votes (Votos):\n",
    "\n",
    "Distribuição Assimétrica:<br/>\n",
    "A média (349.02) é maior que a mediana (270.00), o que indica uma assimetria positiva.<br/>\n",
    "A moda (83.00) é bem menor que a mediana, o que confirma a assimetria.\n",
    "Coeficiente de variação alto, mostrando grande dispersão.<br/>\n",
    "Conclusão:<br/>\n",
    "A maioria dos filmes recebe um número relativamente baixo de votos, mas alguns filmes recebem um número muito alto de votos.<br/>\n",
    "4. Budget (Orçamento):\n",
    "\n",
    "Distribuição Extremamente Assimétrica:<br/>\n",
    "A média (266.695.394,14) é muito maior que a mediana (30.000.000,00), o que indica uma assimetria extremamente alta.<br/>\n",
    "A amplitude e o desvio padrão são enormes, o que confirma a alta variabilidade.\n",
    "O coeficiente de variação é altíssimo.<br/>\n",
    "Conclusão:<br/>\n",
    "A maioria dos filmes tem orçamentos relativamente baixos, mas alguns filmes têm orçamentos extremamente altos. A distribuição dos orçamentos é altamente concentrada em um pequeno número de filmes.\n",
    "5. grossWorldWide (Receita Mundial):\n",
    "\n",
    "Distribuição Altamente Assimétrica:<br/>\n",
    "A média (43.223.407,27) é muito maior que a mediana (1.178.149,00), o que indica uma assimetria alta.\n",
    "O coeficiente de variação é muito alto.<br/>\n",
    "Conclusão:<br/>\n",
    "A maioria dos filmes tem receitas relativamente baixas, mas alguns filmes têm receitas extremamente altas. A distribuição das receitas é altamente concentrada em um pequeno número de filmes.\n",
    "<br/>\n",
    "<br/>\n",
    "Conclusões Gerais:\n",
    "<br/>\n",
    "<br/>\n",
    "O coeficiente de variação é muito alto para as variáveis \"oscars\", \"budget\" e \"grossWorldWide\", o que confirma a alta variabilidade dos dados.\n",
    "<br/>\n",
    "O coeficiente de variação é considerável para a variável \"Votes\", mostrando uma dispersão considerável dos dados.\n",
    "<br/>\n",
    "O coeficiente de variação é o menor para a variável \"Rating\", o que indica que os dados estão mais concentrados em torno da média."
   ]
  }
 ],
 "metadata": {
  "colab": {
   "authorship_tag": "ABX9TyPOT3Yv+Tx5VCZZ+JNBJvob",
   "provenance": []
  },
  "kernelspec": {
   "display_name": "Python 3",
   "name": "python3"
  },
  "language_info": {
   "codemirror_mode": {
    "name": "ipython",
    "version": 3
   },
   "file_extension": ".py",
   "mimetype": "text/x-python",
   "name": "python",
   "nbconvert_exporter": "python",
   "pygments_lexer": "ipython3",
   "version": "3.12.10"
  }
 },
 "nbformat": 4,
 "nbformat_minor": 0
}
