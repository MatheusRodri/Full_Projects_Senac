{
 "cells": [
  {
   "cell_type": "code",
   "execution_count": 1,
   "metadata": {
    "id": "cDPcyHIjURgd"
   },
   "outputs": [],
   "source": [
    "import pandas as pd\n",
    "import matplotlib.pyplot as plt\n",
    "import seaborn as sns\n",
    "import plotly.graph_objects as go"
   ]
  },
  {
   "cell_type": "code",
   "execution_count": 2,
   "metadata": {
    "id": "n5iRfUWJUUET"
   },
   "outputs": [],
   "source": [
    "df = pd.read_csv('./resultado_empilhado.csv')"
   ]
  },
  {
   "cell_type": "code",
   "execution_count": 4,
   "metadata": {
    "colab": {
     "base_uri": "https://localhost:8080/"
    },
    "executionInfo": {
     "elapsed": 134,
     "status": "ok",
     "timestamp": 1744216255539,
     "user": {
      "displayName": "Matheus Rodrigues de Jesus",
      "userId": "03296413948601591074"
     },
     "user_tz": 180
    },
    "id": "JJ8u7Uv-QJgK",
    "outputId": "d5350a2a-b744-4a8c-c7f4-fac14488df16"
   },
   "outputs": [
    {
     "name": "stdout",
     "output_type": "stream",
     "text": [
      "Probabilidades calculadas:\n",
      "1. P(classificação R): 0.3006 -> 30.06%\n",
      "2. P(orçamento > 10M): 0.1626 -> 16.26%\n",
      "3. P(EUA e nota > 8.0): 0.0069 -> 0.69%\n",
      "4. P(ganhou ≥ 1 Oscar): 0.0624 -> 6.24%\n",
      "5. P(classificação R | ganhou Oscar): 0.3386 -> 33.86%\n"
     ]
    }
   ],
   "source": [
    "# Converter colunas para numéricos\n",
    "df['Rating'] = pd.to_numeric(df['Rating'], errors='coerce')\n",
    "df['oscars'] = pd.to_numeric(df['oscars'], errors='coerce')\n",
    "df['budget'] = pd.to_numeric(df['budget'], errors='coerce')\n",
    "df['grossWorldWide'] = pd.to_numeric(df['grossWorldWide'], errors='coerce')\n",
    "\n",
    "# Extrair o primeiro país da lista de países\n",
    "df['main_country'] = df['countries_origin'].str.extract(r\"\\['?([^']+)'?\\]\")\n",
    "\n",
    "total_filmes = len(df)\n",
    "\n",
    "# 1. Probalidade(filme com classificação R)\n",
    "p_r = (df['MPA'] == 'R').sum() / total_filmes\n",
    "\n",
    "# 2. Probalidade(filme com orçamento acima de 10 milhões)\n",
    "p_orcamento_maior_10m = (df['budget'] > 10_000_000).sum() / total_filmes\n",
    "\n",
    "# 3. Probalidade(filme dos EUA e com nota acima de 8.0)\n",
    "p_eua_rating_8 = ((df['main_country'] == 'United States') & (df['Rating'] > 8.0)).sum() / total_filmes\n",
    "\n",
    "# 4. Probalidade(filme ganhou ao menos 1 Oscar)\n",
    "p_oscars = (df['oscars'] >= 1).sum() / total_filmes\n",
    "\n",
    "# 5. Probabilidade condicional: Probalidade(filme é “R” | ganhou Oscar)\n",
    "ganhou_oscars = df[df['oscars'] >= 1]\n",
    "p_r_dado_oscars = (ganhou_oscars['MPA'] == 'R').sum() / len(ganhou_oscars)\n",
    "\n",
    "# 4. Exibir os resultados\n",
    "print(\"Probabilidades calculadas:\")\n",
    "print(f\"1. P(classificação R): {p_r:.4f} -> {p_r*100:.2f}%\")\n",
    "print(f\"2. P(orçamento > 10M): {p_orcamento_maior_10m:.4f} -> {p_orcamento_maior_10m*100:.2f}%\")\n",
    "print(f\"3. P(EUA e nota > 8.0): {p_eua_rating_8:.4f} -> {p_eua_rating_8*100:.2f}%\")\n",
    "print(f\"4. P(ganhou ≥ 1 Oscar): {p_oscars:.4f} -> {p_oscars*100:.2f}%\")\n",
    "print(f\"5. P(classificação R | ganhou Oscar): {p_r_dado_oscars:.4f} -> {p_r_dado_oscars*100:.2f}%\")\n"
   ]
  }
 ],
 "metadata": {
  "colab": {
   "authorship_tag": "ABX9TyNcXIF1YU9ru+4yB7Ify858",
   "provenance": []
  },
  "kernelspec": {
   "display_name": "Python 3",
   "name": "python3"
  },
  "language_info": {
   "codemirror_mode": {
    "name": "ipython",
    "version": 3
   },
   "file_extension": ".py",
   "mimetype": "text/x-python",
   "name": "python",
   "nbconvert_exporter": "python",
   "pygments_lexer": "ipython3",
   "version": "3.12.10"
  }
 },
 "nbformat": 4,
 "nbformat_minor": 0
}
