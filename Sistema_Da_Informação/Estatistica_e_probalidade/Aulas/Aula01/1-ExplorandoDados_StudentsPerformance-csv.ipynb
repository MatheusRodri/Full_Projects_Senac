{
 "cells": [
  {
   "cell_type": "markdown",
   "id": "1e3d355a",
   "metadata": {
    "id": "1e3d355a"
   },
   "source": [
    "# Aulas 1 e 2: Coleta e organização de dados e Medidas de tendência e dispersão\n",
    "\n",
    "## Tipos de dados:\n",
    "\n",
    "\n",
    "\n",
    "Numérico (Quantitativo)\n",
    "- Contínuo (Faixa)\n",
    "   - Velocidade de um trem\n",
    "   - Altura de uma pessoa\n",
    "   - Tempo para carregar uma página\n",
    "\n",
    "- Discreto (Contagem)\n",
    "   - Número de visitantes em um shopping center\n",
    "   - Número de pessoas que trabalham em uma empresa\n",
    "\n",
    "- Categórico (Qualitativo)\n",
    "  - Não ordenável\n",
    "    - Casado solteiro\n",
    "    - País de residência\n",
    "\n",
    "  - Ordinal (ordenado)\n",
    "    - Primeiro segundo terceiro.\n",
    "\n",
    "\n",
    "\n",
    "\n",
    "## Medidas de centro:\n",
    "\n",
    "### A média é a soma de todos os pontos de dados dividida pelo número total de pontos de dados.\n",
    "\n",
    "### A mediana é o valor médio do conjunto de dados onde 50% dos dados são maiores que a mediana e 50% dos dados são menores que a mediana. É um ponto que está no meio da amostra e não precisa coincidir com a média.\n",
    "\n",
    "### A moda é dado que mais se repete."
   ]
  },
  {
   "cell_type": "markdown",
   "id": "8a1c030d",
   "metadata": {
    "id": "8a1c030d"
   },
   "source": [
    "### Exemplo:\n",
    "\n",
    "Considere o banco de dados retirado do Kaggle: (Students Performance in Exams) no qual serão realizados diversos cálculos ao longo do restante do Notebook.\n",
    "\n",
    "https://www.kaggle.com/datasets/spscientist/students-performance-in-exams\n"
   ]
  },
  {
   "cell_type": "code",
   "execution_count": 3,
   "id": "354ed394",
   "metadata": {
    "colab": {
     "base_uri": "https://localhost:8080/",
     "height": 206
    },
    "executionInfo": {
     "elapsed": 431,
     "status": "ok",
     "timestamp": 1729618249318,
     "user": {
      "displayName": "Samuel Junior",
      "userId": "06048015310716032839"
     },
     "user_tz": 180
    },
    "id": "354ed394",
    "outputId": "772d2f61-577d-430c-b0d6-dc957549ba90"
   },
   "outputs": [
    {
     "data": {
      "text/html": [
       "<div>\n",
       "<style scoped>\n",
       "    .dataframe tbody tr th:only-of-type {\n",
       "        vertical-align: middle;\n",
       "    }\n",
       "\n",
       "    .dataframe tbody tr th {\n",
       "        vertical-align: top;\n",
       "    }\n",
       "\n",
       "    .dataframe thead th {\n",
       "        text-align: right;\n",
       "    }\n",
       "</style>\n",
       "<table border=\"1\" class=\"dataframe\">\n",
       "  <thead>\n",
       "    <tr style=\"text-align: right;\">\n",
       "      <th></th>\n",
       "      <th>gender</th>\n",
       "      <th>race/ethnicity</th>\n",
       "      <th>parental level of education</th>\n",
       "      <th>lunch</th>\n",
       "      <th>test preparation course</th>\n",
       "      <th>math score</th>\n",
       "      <th>reading score</th>\n",
       "      <th>writing score</th>\n",
       "    </tr>\n",
       "  </thead>\n",
       "  <tbody>\n",
       "    <tr>\n",
       "      <th>0</th>\n",
       "      <td>female</td>\n",
       "      <td>group B</td>\n",
       "      <td>bachelor's degree</td>\n",
       "      <td>standard</td>\n",
       "      <td>none</td>\n",
       "      <td>72</td>\n",
       "      <td>72</td>\n",
       "      <td>74</td>\n",
       "    </tr>\n",
       "    <tr>\n",
       "      <th>1</th>\n",
       "      <td>female</td>\n",
       "      <td>group C</td>\n",
       "      <td>some college</td>\n",
       "      <td>standard</td>\n",
       "      <td>completed</td>\n",
       "      <td>69</td>\n",
       "      <td>90</td>\n",
       "      <td>88</td>\n",
       "    </tr>\n",
       "    <tr>\n",
       "      <th>2</th>\n",
       "      <td>female</td>\n",
       "      <td>group B</td>\n",
       "      <td>master's degree</td>\n",
       "      <td>standard</td>\n",
       "      <td>none</td>\n",
       "      <td>90</td>\n",
       "      <td>95</td>\n",
       "      <td>93</td>\n",
       "    </tr>\n",
       "    <tr>\n",
       "      <th>3</th>\n",
       "      <td>male</td>\n",
       "      <td>group A</td>\n",
       "      <td>associate's degree</td>\n",
       "      <td>free/reduced</td>\n",
       "      <td>none</td>\n",
       "      <td>47</td>\n",
       "      <td>57</td>\n",
       "      <td>44</td>\n",
       "    </tr>\n",
       "    <tr>\n",
       "      <th>4</th>\n",
       "      <td>male</td>\n",
       "      <td>group C</td>\n",
       "      <td>some college</td>\n",
       "      <td>standard</td>\n",
       "      <td>none</td>\n",
       "      <td>76</td>\n",
       "      <td>78</td>\n",
       "      <td>75</td>\n",
       "    </tr>\n",
       "  </tbody>\n",
       "</table>\n",
       "</div>"
      ],
      "text/plain": [
       "   gender race/ethnicity parental level of education         lunch  \\\n",
       "0  female        group B           bachelor's degree      standard   \n",
       "1  female        group C                some college      standard   \n",
       "2  female        group B             master's degree      standard   \n",
       "3    male        group A          associate's degree  free/reduced   \n",
       "4    male        group C                some college      standard   \n",
       "\n",
       "  test preparation course  math score  reading score  writing score  \n",
       "0                    none          72             72             74  \n",
       "1               completed          69             90             88  \n",
       "2                    none          90             95             93  \n",
       "3                    none          47             57             44  \n",
       "4                    none          76             78             75  "
      ]
     },
     "execution_count": 3,
     "metadata": {},
     "output_type": "execute_result"
    }
   ],
   "source": [
    "#Exemplo 1:\n",
    "#importar bibliotecas\n",
    "import pandas as pd\n",
    "import numpy as np\n",
    "import statistics\n",
    "import matplotlib.pyplot as plt\n",
    "from scipy.stats import skewnorm # Necessário para fazer o gráfico de tendenciosidade.\n",
    "from scipy import stats\n",
    "\n",
    "#Carregamos o banco de dados baixado anteriormente na pasta de trabalho.\n",
    "data = pd.read_csv('./StudentsPerformance.csv')\n",
    "data.head()"
   ]
  },
  {
   "cell_type": "markdown",
   "id": "00035e4a-d92a-4695-9cfe-d96fd927f319",
   "metadata": {
    "id": "00035e4a-d92a-4695-9cfe-d96fd927f319"
   },
   "source": [
    "# Vamos classificar cada uma das variáveis ​​do banco de dados:\n",
    "\n",
    "**Qualitativo-Nominal:** `Gender` (Gênero), `Race/ethnicity` (Raça), `lunch` (tipo almoço),    `test preparation course` ( Curso de preparação)\n",
    "\n",
    "**Qualitativo-Ordinal:** `parental level of education`\n",
    "\n",
    "**Quantitativo- Discreta:** `math score`, \t`reading score`, \t`writing score`"
   ]
  },
  {
   "cell_type": "code",
   "execution_count": 4,
   "id": "7466188d-4880-412a-bb91-9e1621c030c5",
   "metadata": {
    "colab": {
     "base_uri": "https://localhost:8080/",
     "height": 304
    },
    "executionInfo": {
     "elapsed": 282,
     "status": "ok",
     "timestamp": 1724279790884,
     "user": {
      "displayName": "Samuel Junior",
      "userId": "06048015310716032839"
     },
     "user_tz": 180
    },
    "id": "7466188d-4880-412a-bb91-9e1621c030c5",
    "outputId": "73707d80-2149-4826-8185-4b5fa74bccce"
   },
   "outputs": [
    {
     "data": {
      "text/plain": [
       "parental level of education\n",
       "some college          226\n",
       "associate's degree    222\n",
       "high school           196\n",
       "some high school      179\n",
       "bachelor's degree     118\n",
       "master's degree        59\n",
       "Name: count, dtype: int64"
      ]
     },
     "execution_count": 4,
     "metadata": {},
     "output_type": "execute_result"
    }
   ],
   "source": [
    "#Vamos notar os diferentes valores da variável ‘nível de escolaridade dos pais’\n",
    "data['parental level of education'].value_counts()"
   ]
  },
  {
   "cell_type": "code",
   "execution_count": 5,
   "id": "87cbc655",
   "metadata": {
    "colab": {
     "base_uri": "https://localhost:8080/"
    },
    "executionInfo": {
     "elapsed": 335,
     "status": "ok",
     "timestamp": 1724366448634,
     "user": {
      "displayName": "Samuel Junior",
      "userId": "06048015310716032839"
     },
     "user_tz": 180
    },
    "id": "87cbc655",
    "outputId": "369234ab-4bd5-4221-ceb1-467395d51c24"
   },
   "outputs": [
    {
     "name": "stdout",
     "output_type": "stream",
     "text": [
      "A média de matemática é 66.089 e a de leitura é 69.169 e a de escrita é 68.054\n"
     ]
    }
   ],
   "source": [
    "#Calcular a média da variável math score e reading score. Compare essas duas médias.\n",
    "\n",
    "media_matematica = np.mean(data['math score'])\n",
    "media_leitura = np.mean(data['reading score'])\n",
    "escrita = np.mean(data[\"writing score\"])\n",
    "print(f'A média de matemática é {media_matematica} e a de leitura é {media_leitura} e a de escrita é {escrita}')"
   ]
  },
  {
   "cell_type": "code",
   "execution_count": 6,
   "id": "17708309",
   "metadata": {
    "id": "17708309"
   },
   "outputs": [],
   "source": [
    "# Notamos como o rendimento dos estudante é melhor em leitura do que em matemática."
   ]
  },
  {
   "cell_type": "code",
   "execution_count": 7,
   "id": "4ddc8358",
   "metadata": {
    "colab": {
     "base_uri": "https://localhost:8080/"
    },
    "executionInfo": {
     "elapsed": 2,
     "status": "ok",
     "timestamp": 1724366449917,
     "user": {
      "displayName": "Samuel Junior",
      "userId": "06048015310716032839"
     },
     "user_tz": 180
    },
    "id": "4ddc8358",
    "outputId": "1cdc219b-74c3-4ec5-d401-14cfbf77c112",
    "scrolled": true
   },
   "outputs": [
    {
     "name": "stdout",
     "output_type": "stream",
     "text": [
      "A média de matemática é 66.089 e a mediana é 66.0\n"
     ]
    }
   ],
   "source": [
    "#Calculemos a mediana de math_score e comparemos com a média.\n",
    "mediana_matematica = np.median(data['math score'])\n",
    "\n",
    "print(f'A média de matemática é {media_matematica} e a mediana é {mediana_matematica}')\n"
   ]
  },
  {
   "cell_type": "code",
   "execution_count": 8,
   "id": "bcabc1c9-7be2-4da2-8f5b-3d5ebc10a4f3",
   "metadata": {
    "colab": {
     "base_uri": "https://localhost:8080/",
     "height": 333
    },
    "executionInfo": {
     "elapsed": 897,
     "status": "ok",
     "timestamp": 1724366848149,
     "user": {
      "displayName": "Samuel Junior",
      "userId": "06048015310716032839"
     },
     "user_tz": 180
    },
    "id": "bcabc1c9-7be2-4da2-8f5b-3d5ebc10a4f3",
    "outputId": "ba53fb61-e73a-4620-b4d1-f3a3b31dac78"
   },
   "outputs": [
    {
     "data": {
      "image/png": "[encoded data removed]",
      "text/plain": [
       "<Figure size 600x300 with 1 Axes>"
      ]
     },
     "metadata": {},
     "output_type": "display_data"
    }
   ],
   "source": [
    "# Criamos o histograma\n",
    "plt.figure(figsize=(6, 3))\n",
    "\n",
    "mediana_leitura = np.median(data['reading score'])\n",
    "\n",
    "data['reading score'].plot.hist(bins=20, edgecolor='black')\n",
    "\n",
    "#Visualizamos a media:\n",
    "plt.axvline(media_leitura, color='red', linestyle='dashed', linewidth=3, label=f'Media: {media_leitura}')\n",
    "plt.axvline(mediana_leitura, color='yellow', linestyle='dashed', linewidth=1,label=f'Mediana: {mediana_leitura}')\n",
    "\n",
    "\n",
    "plt.legend()\n",
    "plt.title('Distribuição da pontuação em leitura')\n",
    "plt.xlabel('Pontuação em leitura')\n",
    "plt.ylabel('Frequência')\n",
    "plt.show()\n"
   ]
  },
  {
   "cell_type": "code",
   "execution_count": 9,
   "id": "259f6449",
   "metadata": {
    "colab": {
     "base_uri": "https://localhost:8080/",
     "height": 334
    },
    "executionInfo": {
     "elapsed": 853,
     "status": "ok",
     "timestamp": 1724366929275,
     "user": {
      "displayName": "Samuel Junior",
      "userId": "06048015310716032839"
     },
     "user_tz": 180
    },
    "id": "259f6449",
    "outputId": "27a42a1c-356a-47b5-f246-da2993300f41",
    "scrolled": true
   },
   "outputs": [
    {
     "data": {
      "image/png": "[encoded data removed]",
      "text/plain": [
       "<Figure size 600x300 with 1 Axes>"
      ]
     },
     "metadata": {},
     "output_type": "display_data"
    }
   ],
   "source": [
    "# Notamos como o valor central (mediana) e sua média diferem.\n",
    "# Podemos fazer um diagrama de barras para verificar que não tem uma tendência nos dados.\n",
    "\n",
    "\n",
    "\n",
    "# Criamos o histograma\n",
    "plt.figure(figsize=(6, 3))\n",
    "\n",
    "\n",
    "data['math score'].plot.hist(bins=20, edgecolor='black')\n",
    "\n",
    "#Visualizamos a media:\n",
    "plt.axvline(media_matematica, color='red', linestyle='dashed', linewidth=3, label=f'Media: {media_matematica}')\n",
    "plt.axvline(mediana_matematica, color='yellow', linestyle='dashed', linewidth=1,label=f'Mediana: {mediana_matematica}')\n",
    "\n",
    "\n",
    "plt.legend()\n",
    "plt.title('Distribuição da pontuação em matemática')\n",
    "plt.xlabel('Pontuação em matemática')\n",
    "plt.ylabel('Frequência')\n",
    "plt.show()\n",
    "\n"
   ]
  },
  {
   "cell_type": "markdown",
   "id": "9ca1e949-90f2-4920-89c1-760ee1a18a8e",
   "metadata": {
    "id": "9ca1e949-90f2-4920-89c1-760ee1a18a8e"
   },
   "source": [
    "'''\n",
    "Os dados são simétricos em torno da média ou mediana, nenhum tendência é observado na variável pontuação matemática.\n",
    "\n",
    "Vale ressaltar que a distribuição das pontuações matemáticas segue\n",
    "uma distribuição normal (formato de sino) que será estudada mais para frente\n",
    "'''"
   ]
  },
  {
   "cell_type": "markdown",
   "id": "b7c0b463",
   "metadata": {
    "id": "b7c0b463"
   },
   "source": [
    "Também podemos utilizar o método   `.describe()`\n",
    "\n",
    "\n",
    "Este método fornece um resumo estatístico das colunas de um DataFrame,\n",
    "incluindo medidas como contagem de linhas, média, desvio padrão,\n",
    "os valores mínimo e máximo e os percentis."
   ]
  },
  {
   "cell_type": "code",
   "execution_count": 10,
   "id": "c44aeee9",
   "metadata": {
    "colab": {
     "base_uri": "https://localhost:8080/",
     "height": 300
    },
    "executionInfo": {
     "elapsed": 314,
     "status": "ok",
     "timestamp": 1724366942141,
     "user": {
      "displayName": "Samuel Junior",
      "userId": "06048015310716032839"
     },
     "user_tz": 180
    },
    "id": "c44aeee9",
    "outputId": "610dfe60-c7ed-4ab8-f901-5edf244cb35c"
   },
   "outputs": [
    {
     "data": {
      "text/html": [
       "<div>\n",
       "<style scoped>\n",
       "    .dataframe tbody tr th:only-of-type {\n",
       "        vertical-align: middle;\n",
       "    }\n",
       "\n",
       "    .dataframe tbody tr th {\n",
       "        vertical-align: top;\n",
       "    }\n",
       "\n",
       "    .dataframe thead th {\n",
       "        text-align: right;\n",
       "    }\n",
       "</style>\n",
       "<table border=\"1\" class=\"dataframe\">\n",
       "  <thead>\n",
       "    <tr style=\"text-align: right;\">\n",
       "      <th></th>\n",
       "      <th>math score</th>\n",
       "      <th>reading score</th>\n",
       "      <th>writing score</th>\n",
       "    </tr>\n",
       "  </thead>\n",
       "  <tbody>\n",
       "    <tr>\n",
       "      <th>count</th>\n",
       "      <td>1000.00000</td>\n",
       "      <td>1000.000000</td>\n",
       "      <td>1000.000000</td>\n",
       "    </tr>\n",
       "    <tr>\n",
       "      <th>mean</th>\n",
       "      <td>66.08900</td>\n",
       "      <td>69.169000</td>\n",
       "      <td>68.054000</td>\n",
       "    </tr>\n",
       "    <tr>\n",
       "      <th>std</th>\n",
       "      <td>15.16308</td>\n",
       "      <td>14.600192</td>\n",
       "      <td>15.195657</td>\n",
       "    </tr>\n",
       "    <tr>\n",
       "      <th>min</th>\n",
       "      <td>0.00000</td>\n",
       "      <td>17.000000</td>\n",
       "      <td>10.000000</td>\n",
       "    </tr>\n",
       "    <tr>\n",
       "      <th>25%</th>\n",
       "      <td>57.00000</td>\n",
       "      <td>59.000000</td>\n",
       "      <td>57.750000</td>\n",
       "    </tr>\n",
       "    <tr>\n",
       "      <th>50%</th>\n",
       "      <td>66.00000</td>\n",
       "      <td>70.000000</td>\n",
       "      <td>69.000000</td>\n",
       "    </tr>\n",
       "    <tr>\n",
       "      <th>75%</th>\n",
       "      <td>77.00000</td>\n",
       "      <td>79.000000</td>\n",
       "      <td>79.000000</td>\n",
       "    </tr>\n",
       "    <tr>\n",
       "      <th>max</th>\n",
       "      <td>100.00000</td>\n",
       "      <td>100.000000</td>\n",
       "      <td>100.000000</td>\n",
       "    </tr>\n",
       "  </tbody>\n",
       "</table>\n",
       "</div>"
      ],
      "text/plain": [
       "       math score  reading score  writing score\n",
       "count  1000.00000    1000.000000    1000.000000\n",
       "mean     66.08900      69.169000      68.054000\n",
       "std      15.16308      14.600192      15.195657\n",
       "min       0.00000      17.000000      10.000000\n",
       "25%      57.00000      59.000000      57.750000\n",
       "50%      66.00000      70.000000      69.000000\n",
       "75%      77.00000      79.000000      79.000000\n",
       "max     100.00000     100.000000     100.000000"
      ]
     },
     "execution_count": 10,
     "metadata": {},
     "output_type": "execute_result"
    }
   ],
   "source": [
    "data.describe()"
   ]
  },
  {
   "cell_type": "code",
   "execution_count": 11,
   "id": "96b63b21",
   "metadata": {
    "colab": {
     "base_uri": "https://localhost:8080/",
     "height": 35
    },
    "executionInfo": {
     "elapsed": 11,
     "status": "ok",
     "timestamp": 1724272268985,
     "user": {
      "displayName": "Samuel Junior",
      "userId": "06048015310716032839"
     },
     "user_tz": 180
    },
    "id": "96b63b21",
    "outputId": "d40e1d3f-d633-4128-af27-369b0fe56b32"
   },
   "outputs": [
    {
     "data": {
      "text/plain": [
       "'some college'"
      ]
     },
     "execution_count": 11,
     "metadata": {},
     "output_type": "execute_result"
    }
   ],
   "source": [
    "# A seguir vamos calcular a moda da variável 'parental level of education'\n",
    "'''Em Python, você pode usar `statistics.mode()` para calcular\n",
    "o modo de uma lista ou sequência de dados numéricos ou não numéricos.'''\n",
    "\n",
    "'''Cuidado, podemos ter mais de 1 moda, o melhor é verificar com o value_counts'''\n",
    "\n",
    "statistics.mode(data['parental level of education'])"
   ]
  },
  {
   "cell_type": "code",
   "execution_count": 12,
   "id": "9457e0af",
   "metadata": {
    "colab": {
     "base_uri": "https://localhost:8080/",
     "height": 303
    },
    "executionInfo": {
     "elapsed": 478,
     "status": "ok",
     "timestamp": 1724272269455,
     "user": {
      "displayName": "Samuel Junior",
      "userId": "06048015310716032839"
     },
     "user_tz": 180
    },
    "id": "9457e0af",
    "outputId": "01a92310-4268-436f-ae8e-8343e7e4a169"
   },
   "outputs": [
    {
     "data": {
      "text/plain": [
       "parental level of education\n",
       "some college          226\n",
       "associate's degree    222\n",
       "high school           196\n",
       "some high school      179\n",
       "bachelor's degree     118\n",
       "master's degree        59\n",
       "Name: count, dtype: int64"
      ]
     },
     "execution_count": 12,
     "metadata": {},
     "output_type": "execute_result"
    }
   ],
   "source": [
    "# Você também pode usar o método .value_counts():\n",
    "data['parental level of education'].value_counts()"
   ]
  },
  {
   "cell_type": "code",
   "execution_count": 13,
   "id": "5c9695cc",
   "metadata": {
    "id": "5c9695cc"
   },
   "outputs": [],
   "source": [
    "#Percebemos como o valor que mais se repete é ‘some college com 226 registros’"
   ]
  },
  {
   "cell_type": "markdown",
   "id": "0a55ea4e-b776-4da0-b0cc-4fd677711edc",
   "metadata": {
    "id": "0a55ea4e-b776-4da0-b0cc-4fd677711edc"
   },
   "source": [
    "### Exemplo: (A média é suscetível a valores discrepantes)\n",
    "\n",
    "Numa empresa que possui três funcionários, existe a seguinte estrutura salarial mensal:\n",
    "\n",
    "- Dois programadores ganham \\$ 3.000 cada.\n",
    "- Um supervisor ganha $ 20.000.\n",
    "\n",
    "Todos os salários são expressos em dólares. Determine os salários médios e medianos. Explique como o salário é afetado pelo valor atípico do salário do supervisor."
   ]
  },
  {
   "cell_type": "code",
   "execution_count": 14,
   "id": "e1e73250-76fd-4911-af43-e13d6d3e297b",
   "metadata": {
    "colab": {
     "base_uri": "https://localhost:8080/"
    },
    "executionInfo": {
     "elapsed": 8,
     "status": "ok",
     "timestamp": 1724272269456,
     "user": {
      "displayName": "Samuel Junior",
      "userId": "06048015310716032839"
     },
     "user_tz": 180
    },
    "id": "e1e73250-76fd-4911-af43-e13d6d3e297b",
    "outputId": "2030b72d-ca99-44d0-dfa1-a88ddf47f631"
   },
   "outputs": [
    {
     "name": "stdout",
     "output_type": "stream",
     "text": [
      " A média dos salários é 8666.666666666666 e a mediana é 3000.0\n"
     ]
    }
   ],
   "source": [
    "salarios = [3000,3000,20000]\n",
    "media_salarios = np.mean(salarios)\n",
    "\n",
    "\n",
    "mediana_salarios = np.median(salarios)\n",
    "\n",
    "print(f' A média dos salários é {media_salarios} e a mediana é {mediana_salarios}')"
   ]
  },
  {
   "cell_type": "markdown",
   "id": "4ee9e4e0-73ce-48f2-a10a-c0ea3c0dd4e5",
   "metadata": {
    "id": "4ee9e4e0-73ce-48f2-a10a-c0ea3c0dd4e5"
   },
   "source": [
    "O salário do supervisor é significativamente maior do que o dos outros funcionários (quase 7 vezes dos programadores), o que o torna um valoro atípico.\n",
    "\n",
    "Este valor atípico tem um impacto considerável nos salários médios, elevando-os para \\$ 8.666,67, o que é muito superior à maioria dos restantes salários (3.000).\n",
    "\n",
    "Porém, a mediana, sendo \\$ 3.000, reflete melhor o salário típico da empresa, pois não é afetada por valores extremamente altos ou baixos.\n",
    "\n",
    "Isto mostra como os valores discrepantes podem distorcer a média, tornando-a menos representativa daquilo que a maioria dos funcionários realmente recebe, enquanto a mediana pode oferecer uma melhor representação da tendência central na presença de valores discrepantes."
   ]
  },
  {
   "cell_type": "markdown",
   "id": "5c77c556-853d-4aa0-9ff8-edd0dfc3f1cd",
   "metadata": {
    "id": "5c77c556-853d-4aa0-9ff8-edd0dfc3f1cd"
   },
   "source": [
    "### Comparação entre a média e a mediana.\n",
    "\n",
    "A forma de uma distribuição determina se a média é maior ou menor que a mediana. Em geral, se a forma da distribuição for:\n",
    "\n",
    "- Perfeitamente simétrico, a média é igual à mediana.\n",
    "- Inclinada para a esquerda, a média é menor que a mediana.\n",
    "- Inclinada para a direita, a média é maior que a mediana.\n",
    "\n",
    "O gráfico a seguir ilustra esta situação:"
   ]
  },
  {
   "cell_type": "code",
   "execution_count": 15,
   "id": "e49e5983-ab15-4f5e-ae87-5be19e507f12",
   "metadata": {
    "colab": {
     "base_uri": "https://localhost:8080/",
     "height": 307
    },
    "executionInfo": {
     "elapsed": 1659,
     "status": "ok",
     "timestamp": 1724367904827,
     "user": {
      "displayName": "Samuel Junior",
      "userId": "06048015310716032839"
     },
     "user_tz": 180
    },
    "id": "e49e5983-ab15-4f5e-ae87-5be19e507f12",
    "outputId": "a2e81bbe-b1a1-4cfc-ed7a-467571f1b877"
   },
   "outputs": [
    {
     "data": {
      "image/png": "[encoded data removed]",
      "text/plain": [
       "<Figure size 1000x300 with 3 Axes>"
      ]
     },
     "metadata": {},
     "output_type": "display_data"
    }
   ],
   "source": [
    "# Código para gerar o gráfico.\n",
    "# Gerar dados para distribuições\n",
    "np.random.seed(0)\n",
    "data_symmetric = np.random.normal(loc=0, scale=1, size=1000)  # Distribuição simétrica\n",
    "data_left_skewed = skewnorm.rvs(a=10, loc=-2, scale=1, size=1000)  # Distribuição tendenciosa para a esquerda\n",
    "data_right_skewed = skewnorm.rvs(a=-10, loc=2, scale=1, size=1000)  # Distribuição tendenciosa para a direita\n",
    "\n",
    "# Criar figuras para as distribuições\n",
    "fig, axs = plt.subplots(1, 3, figsize=(10, 3))\n",
    "\n",
    "# Títulos para cada subgráfico\n",
    "titles = ['Distribuição Simétrica', 'Distribuição Tendência Direita', 'Distribuição Tendência Esquerda']\n",
    "sesgo = [data_symmetric, data_left_skewed, data_right_skewed]\n",
    "colors = ['green', 'tan', 'purple']\n",
    "\n",
    "for ax, datum, title, color in zip(axs, sesgo, titles, colors):\n",
    "    ax.hist(datum, bins=30, color=color, alpha=0.7)\n",
    "    ax.axvline(datum.mean(), color='k', linestyle='dashed', linewidth=1)\n",
    "    ax.axvline(np.median(datum), color='r', linestyle='dashed', linewidth=1)\n",
    "    ax.set_title(title)\n",
    "\n",
    "# Legendas\n",
    "axs[0].legend(['Média = Mediana', ''], loc='upper left')\n",
    "axs[1].legend(['Média', 'Mediana'], loc='upper left')\n",
    "axs[2].legend(['Média', 'Mediana'], loc='upper left')\n",
    "\n",
    "plt.tight_layout()\n",
    "plt.show()"
   ]
  },
  {
   "cell_type": "markdown",
   "id": "207ad71d",
   "metadata": {
    "id": "207ad71d"
   },
   "source": [
    "# Medidas de Dispersão\n",
    "\n",
    "### Amplitude:\n",
    "A amplitude é a diferença entre o valor máximo e o valor mínimo, quanto maior a amplitude, mais dispersos estão os dados.\n",
    "\n",
    "### Desvio padrão:\n",
    "\n",
    "O desvio padrão é uma medida de dispersão que indica a que distância os dados individuais estão da média.\n"
   ]
  },
  {
   "cell_type": "code",
   "execution_count": 16,
   "id": "6a8877e0",
   "metadata": {
    "colab": {
     "base_uri": "https://localhost:8080/"
    },
    "executionInfo": {
     "elapsed": 25,
     "status": "ok",
     "timestamp": 1724272270784,
     "user": {
      "displayName": "Samuel Junior",
      "userId": "06048015310716032839"
     },
     "user_tz": 180
    },
    "id": "6a8877e0",
    "outputId": "e6922654-bd39-44f9-c086-1612e0c1c17e"
   },
   "outputs": [
    {
     "name": "stdout",
     "output_type": "stream",
     "text": [
      "83\n"
     ]
    }
   ],
   "source": [
    "#Calculemos a amplitude da variável reading score\n",
    "Amplitude = data['reading score'].max()-data['reading score'].min()\n",
    "print(Amplitude)"
   ]
  },
  {
   "cell_type": "code",
   "execution_count": 17,
   "id": "c425908f-0993-400b-a83c-719f34b27d40",
   "metadata": {
    "colab": {
     "base_uri": "https://localhost:8080/"
    },
    "executionInfo": {
     "elapsed": 24,
     "status": "ok",
     "timestamp": 1724272270785,
     "user": {
      "displayName": "Samuel Junior",
      "userId": "06048015310716032839"
     },
     "user_tz": 180
    },
    "id": "c425908f-0993-400b-a83c-719f34b27d40",
    "outputId": "15c6bed9-baf1-4ab3-c497-7a0e1bb0c027"
   },
   "outputs": [
    {
     "name": "stdout",
     "output_type": "stream",
     "text": [
      "100\n"
     ]
    }
   ],
   "source": [
    "Amplitude2 = data['math score'].max()-data['math score'].min()\n",
    "print(Amplitude2)"
   ]
  },
  {
   "cell_type": "code",
   "execution_count": 18,
   "id": "a358dd37-e75e-407d-bbfc-f1cda2918b49",
   "metadata": {
    "colab": {
     "base_uri": "https://localhost:8080/"
    },
    "executionInfo": {
     "elapsed": 23,
     "status": "ok",
     "timestamp": 1724272270785,
     "user": {
      "displayName": "Samuel Junior",
      "userId": "06048015310716032839"
     },
     "user_tz": 180
    },
    "id": "a358dd37-e75e-407d-bbfc-f1cda2918b49",
    "outputId": "b0f4ee94-2f70-466a-e468-643edd09d178"
   },
   "outputs": [
    {
     "name": "stdout",
     "output_type": "stream",
     "text": [
      "90\n"
     ]
    }
   ],
   "source": [
    "Amplitude3 = data['writing score'].max()-data['writing score'].min()\n",
    "print(Amplitude3)"
   ]
  },
  {
   "cell_type": "code",
   "execution_count": 19,
   "id": "0a483473",
   "metadata": {
    "id": "0a483473"
   },
   "outputs": [],
   "source": [
    "# O intervalo é 83, que corresponde ao que mostra a tabela obtida anteriormente com o método .describe()"
   ]
  },
  {
   "cell_type": "markdown",
   "id": "278a0224",
   "metadata": {
    "id": "278a0224"
   },
   "source": [
    "### Quartis e outros percentis\n",
    "\n",
    "O desvio padrão é a medida de dispersão mais comumente usada;\n",
    "\n",
    "No entanto, existem outras maneiras de caracterizar a variabilidade ou dispersão em um conjunto de dados.\n",
    "\n",
    "Uma dessas envolve identificar os valores que dividem um conjunto de observações em porções iguais, utilizando medidas como quartis, decis e percentis.\n",
    "\n",
    "Os quantis são uma ferramenta para resumir dados numéricos porque permitem analisar o centro e a distribuição de um conjunto de dados.\n",
    "\n",
    "Eles também fornecem uma perspectiva clara sobre a posição relativa de um ponto de dados dentro do conjunto total.\n",
    "\n",
    "Por exemplo, você pode oferecer um desconto para 10% dos usuários mais ativos de um site.\n",
    "\n"
   ]
  },
  {
   "cell_type": "code",
   "execution_count": 20,
   "id": "def975c7",
   "metadata": {
    "colab": {
     "base_uri": "https://localhost:8080/"
    },
    "executionInfo": {
     "elapsed": 307,
     "status": "ok",
     "timestamp": 1724368377241,
     "user": {
      "displayName": "Samuel Junior",
      "userId": "06048015310716032839"
     },
     "user_tz": 180
    },
    "id": "def975c7",
    "outputId": "e659d07b-d476-4af7-afba-0238aeacbbdf"
   },
   "outputs": [
    {
     "name": "stdout",
     "output_type": "stream",
     "text": [
      "[  0.  57.  66.  77. 100.]\n"
     ]
    }
   ],
   "source": [
    "# Calcula os quartis de math score\n",
    "print(np.quantile(data['math score'],[0, 0.25, 0.5, 0.75, 1]))"
   ]
  },
  {
   "cell_type": "code",
   "execution_count": 21,
   "id": "f7cec7fc-7e6a-4769-b468-d262653974d6",
   "metadata": {
    "colab": {
     "base_uri": "https://localhost:8080/"
    },
    "executionInfo": {
     "elapsed": 17,
     "status": "ok",
     "timestamp": 1724272270785,
     "user": {
      "displayName": "Samuel Junior",
      "userId": "06048015310716032839"
     },
     "user_tz": 180
    },
    "id": "f7cec7fc-7e6a-4769-b468-d262653974d6",
    "outputId": "ba03bd77-67d1-4bff-9c3e-fcaf5963a103"
   },
   "outputs": [
    {
     "name": "stdout",
     "output_type": "stream",
     "text": [
      "[ 17.  59.  70.  79. 100.]\n"
     ]
    }
   ],
   "source": [
    "print(np.quantile(data['reading score'],[0, 0.25, 0.5, 0.75, 1]))"
   ]
  },
  {
   "cell_type": "code",
   "execution_count": 22,
   "id": "775281de-9afd-41d5-bd7c-605e3adced3b",
   "metadata": {
    "colab": {
     "base_uri": "https://localhost:8080/"
    },
    "executionInfo": {
     "elapsed": 15,
     "status": "ok",
     "timestamp": 1724272270785,
     "user": {
      "displayName": "Samuel Junior",
      "userId": "06048015310716032839"
     },
     "user_tz": 180
    },
    "id": "775281de-9afd-41d5-bd7c-605e3adced3b",
    "outputId": "3b9b90b5-7072-43f1-bfcd-4f0d15821d2e"
   },
   "outputs": [
    {
     "name": "stdout",
     "output_type": "stream",
     "text": [
      "[ 10.    57.75  69.    79.   100.  ]\n"
     ]
    }
   ],
   "source": [
    "print(np.quantile(data['writing score'],[0, 0.25, 0.5, 0.75, 1]))"
   ]
  },
  {
   "cell_type": "markdown",
   "id": "dee487b9",
   "metadata": {
    "id": "dee487b9"
   },
   "source": [
    "### Interpretação:\n",
    "Os quartis resultantes [0, 57, 66, 77, 100] representam pontos de divisão que organizam os resultados dos testes de matemática em intervalos contendo aproximadamente a mesma quantidade de dados.\n",
    "\n",
    "1. **Mínimo (quartil 0%):** O valor mínimo nos resultados do teste é 0. Isso indica que a pontuação mais baixa obtida foi 0.\n",
    "\n",
    "2. **Primeiro quartil (Q1, quartil 25%):** 25% dos alunos obtiveram pontuação igual ou inferior a 57 no teste. Isso significa que o primeiro quartil está em 57, que é o limite onde 25% das pontuações ficam abaixo.\n",
    "\n",
    "3. **Mediana (Q2, quartil de 50%):** A mediana, ou segundo quartil, é 66. Isso indica que 50% dos alunos obtiveram pontuação de 66 ou menos. A mediana divide o conjunto de dados em duas partes iguais.\n",
    "\n",
    "4. **Terceiro quartil (Q3, quartil 75%):** 75% dos alunos obtiveram pontuação de 77 ou menos. O terceiro quartil, 77, mostra que três quartos das pontuações estão abaixo deste valor.\n",
    "\n",
    "5. **Máximo (quartil 100%):** O valor máximo nos resultados do teste é 100. Isso indica que a pontuação mais alta obtida foi 100.\n"
   ]
  },
  {
   "cell_type": "code",
   "execution_count": 23,
   "id": "e655c848",
   "metadata": {
    "colab": {
     "base_uri": "https://localhost:8080/",
     "height": 411
    },
    "executionInfo": {
     "elapsed": 682,
     "status": "ok",
     "timestamp": 1724368537772,
     "user": {
      "displayName": "Samuel Junior",
      "userId": "06048015310716032839"
     },
     "user_tz": 180
    },
    "id": "e655c848",
    "outputId": "a6d90e7c-197c-446b-ed81-f0a041ce016d"
   },
   "outputs": [
    {
     "data": {
      "image/png": "[encoded data removed]",
      "text/plain": [
       "<Figure size 800x400 with 1 Axes>"
      ]
     },
     "metadata": {},
     "output_type": "display_data"
    }
   ],
   "source": [
    "#O box plot permite visualizar melhor estes resultados:\n",
    "# Cria o box plot\n",
    "plt.figure(figsize=(8, 4))  # Ajuste o tamanho do gráfico conforme necessário\n",
    "plt.boxplot(data['math score'],vert=False)\n",
    "plt.title('Box Plot para pontuação em matemática')\n",
    "plt.xlabel('Pontuação em Matemática')\n",
    "plt.show()"
   ]
  },
  {
   "cell_type": "markdown",
   "id": "7548c088",
   "metadata": {
    "id": "7548c088"
   },
   "source": [
    "### Observação:\n",
    "\n",
    "**Outliers** podem influenciar significativamente estatísticas como média, variância e desvio padrão.\n",
    "\n",
    "Por outro lado, o intervalo interquartil, conhecido como IQR, oferece uma alternativa para medir a dispersão menos suscetível aos efeitos de outliers. Esta medida também é comumente usada para identificar tais valores. Em termos práticos, um valor é considerado outlier se estiver abaixo de `Q1 - 1,5 * IQR` ou acima de `Q3 + 1,5 * IQR`, onde Q1 e Q3 representam o primeiro e terceiro quartis, respectivamente. Este critério é usado para determinar o comprimento dos bigodes em um box plot no matplotlib.\n"
   ]
  },
  {
   "cell_type": "markdown",
   "id": "v0hKj4zPF7_9",
   "metadata": {
    "id": "v0hKj4zPF7_9"
   },
   "source": [
    "![BoxPlot-Interpretacion.png](data:image/png;base64,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)"
   ]
  },
  {
   "cell_type": "code",
   "execution_count": 24,
   "id": "7efe6d0b",
   "metadata": {
    "colab": {
     "base_uri": "https://localhost:8080/",
     "height": 410
    },
    "executionInfo": {
     "elapsed": 10,
     "status": "ok",
     "timestamp": 1724272271273,
     "user": {
      "displayName": "Samuel Junior",
      "userId": "06048015310716032839"
     },
     "user_tz": 180
    },
    "id": "7efe6d0b",
    "outputId": "db19a533-692f-4c30-da08-b10be137d932"
   },
   "outputs": [
    {
     "data": {
      "image/png": "[encoded data removed]",
      "text/plain": [
       "<Figure size 1000x400 with 1 Axes>"
      ]
     },
     "metadata": {},
     "output_type": "display_data"
    }
   ],
   "source": [
    "plt.figure(figsize=(10, 4))  # Ajuste o tamanho do gráfico conforme necessário\n",
    "plt.boxplot(data['reading score'],vert=False)\n",
    "plt.title('Box Plot para pontuação em leitura')\n",
    "plt.xlabel('Pontuação em Leitura')\n",
    "plt.show()"
   ]
  },
  {
   "cell_type": "code",
   "execution_count": 25,
   "id": "ad3decce-1ddd-4441-81e5-eed9ae3efd38",
   "metadata": {
    "colab": {
     "base_uri": "https://localhost:8080/",
     "height": 410
    },
    "executionInfo": {
     "elapsed": 431,
     "status": "ok",
     "timestamp": 1724272271695,
     "user": {
      "displayName": "Samuel Junior",
      "userId": "06048015310716032839"
     },
     "user_tz": 180
    },
    "id": "ad3decce-1ddd-4441-81e5-eed9ae3efd38",
    "outputId": "6c7572b5-56e7-427f-9a63-92b77b273dae"
   },
   "outputs": [
    {
     "data": {
      "image/png": "[encoded data removed]",
      "text/plain": [
       "<Figure size 1000x400 with 1 Axes>"
      ]
     },
     "metadata": {},
     "output_type": "display_data"
    }
   ],
   "source": [
    "plt.figure(figsize=(10, 4))  # Ajuste o tamanho do gráfico conforme necessário\n",
    "plt.boxplot(data['writing score'],vert=False)\n",
    "plt.title('Box Plot para pontuação em escrita')\n",
    "plt.xlabel('Pontuação em Escrita')\n",
    "plt.show()"
   ]
  },
  {
   "cell_type": "markdown",
   "id": "2cc8e210-2803-4e7b-ac86-74b27687be07",
   "metadata": {
    "id": "2cc8e210-2803-4e7b-ac86-74b27687be07"
   },
   "source": [
    "##  Outras medidas\n",
    "\n",
    "### Média ponderada\n",
    "\n",
    "Em diversas situações, nem todos os valores têm a mesma relevância, por isso pode ser benéfico atribuir pesos aos dados com base na sua importância para um estudo específico. Neste contexto, não é realizada uma simples soma dos valores, mas sim calculada uma **soma ponderada**. Ao dividir essa soma pelo total dos pesos atribuídos, obtemos a **média ponderada**.\n",
    "\n",
    "$${\\bar  {x}}={\\frac  {\\sum\\limits_{{i=1}}^{n}x_{i}w_{i}}{\\sum\\limits_{{i=1}}^{n}w_{i}}}={\\frac  {x_{1}w_{1}+x_{2}w_{2}+x_{3}w_{3}+...+x_{n}w_{n}}{w_{1}+w_{2}+w_{3}+...+w_{n}}}$$\n",
    "\n",
    "onde\n",
    "\n",
    "- $ \\bar{x} $: É a média ponderada dos dados.\n",
    "- $ x_i $: Representa o valor do i-ésimo dado no conjunto.\n",
    "- $ w_i $: É o peso atribuído ao i-ésimo dado, refletindo a sua importância ou relevância no cálculo da média.\n",
    "- $ n $: É o número total de dados no conjunto.\n",
    "- $ \\sum $: É o operador de adição que serve para somar as multiplicações dos valores pelos seus respectivos pesos e também para somar todos os pesos.\n",
    "\n",
    "\n",
    "### Média geométrica\n",
    "\n",
    "A média geométrica é utilizada em situações em que as variações têm caráter multiplicativo e não aditivo, como no caso de taxas de crescimento, retornos financeiros ou qualquer outro fenômeno em que as variações se acumulem proporcionalmente e não adicionalmente. Por exemplo, se estivermos a calcular o retorno médio de um investimento ao longo de vários períodos, a média geométrica seria mais apropriada do que a média aritmética, uma vez que reflete a forma como os retornos são multiplicados em vez de simplesmente somados.\n",
    "\n",
    "$${\\displaystyle {\\bar {x}}={\\sqrt[{n}]{\\prod _{i=1}^{n}{x_{i}}}}={\\sqrt[{n}]{x_{1}\\cdot x_{2}\\cdots x_{n}}}}$$\n",
    "\n",
    "### Média truncada (Trimmed Mean)\n",
    "\n",
    "Para calcular uma média truncada, elimine alguns dos valores mais altos e mais baixos e calcule a média com os pontos restantes. Uma média truncada de 10% é obtida eliminando os 5% dos valores mais baixos e os 5% dos valores mais altos do conjunto de dados. Uma média truncada de 50% é calculada eliminando os 25% superiores e inferiores dos valores e calculando a média das pontuações que sobram.\n",
    "\n",
    "### Desvio da média\n",
    "\n",
    "A desviação da média absoluta é a média dos valores absolutos das distâncias entre cada valor no conjunto de dados e na média.\n",
    "\n",
    "$$ D_m = \\frac{1}{n} \\sum_{i=1}^n\n",
    " \\left| x_i - \\overline{x} \\right|$$\n",
    "\n",
    "\n",
    "### Desvio da Mediana\n",
    "\n",
    "O desvio médio absoluto $ D_{me} $ é a mediana dos valores absolutos das distâncias entre cada valor no conjunto de dados e na média.\n",
    "\n",
    " $$ D_{me} = MD(\n",
    " {\\left| x_i - \\overline{x} \\right|}_{i=1,...,n})$$\n",
    "\n",
    "Esta medida ajuda a entender quando os dados estão dispersos ao redor da média.\n",
    "\n",
    "Esta medida calcula a mediana dos desvios absolutos de cada valor em um conjunto de dados a respeito da média do conjunto.\n",
    "\n",
    "Nota: $MD(\\cdot) $ Indica a mediana dos valores dentro de $(\\cdot).$\n",
    "\n",
    "\n",
    "O desvio absoluto mediano é especialmente útil porque é menos sensível a valores extremos ou discrepantes em comparação com outras medidas de dispersão, como o desvio padrão. Ao calcular os desvios medianos, você minimiza o impacto de valores extremos que poderiam distorcer a percepção de dispersão em um conjunto de dados. Isto torna $D_{me}$ uma ferramenta robusta e confiável para descrever a variabilidade em vários contextos estatísticos.\n",
    "\n",
    "### Coeficiente de dispersão de Pearson\n",
    "\n",
    "Medição da dispersão adimensional, que é expressa tanto decimal quanto em porcentagem, e expressaria o desvio padrão em porcentagem em relação à média.\n",
    "\n",
    " $$ CV = \\dfrac{\\sigma}{\\bar x}$$"
   ]
  },
  {
   "cell_type": "markdown",
   "id": "2ffb9f63-ccbd-4ece-8a5b-7537a4c49670",
   "metadata": {
    "id": "2ffb9f63-ccbd-4ece-8a5b-7537a4c49670"
   },
   "source": [
    "## Exemplos resolvidos:"
   ]
  },
  {
   "cell_type": "markdown",
   "id": "d8bff97d-0b74-43be-b356-df5291022ec6",
   "metadata": {
    "id": "d8bff97d-0b74-43be-b356-df5291022ec6"
   },
   "source": [
    "### Exemplo 1:\n",
    "\n",
    "Num jogo de basquete entre um grupo de 10 amigos, a cena se complica quando Carlos, fã de estatísticas, manifesta seu descontentamento em relação à formação dos times. Atento aos números, ele argumenta que a altura média de uma equipe supera a da outra. Diante desse dilema, o desafio é calcular meticulosamente a altura média de todo o grupo e de cada uma das equipes separadamente.\n",
    "\n",
    "A partir dos dados fornecidos, calcule a altura média de todos os integrantes e de cada uma das equipes para confirmar ou refutar a hipótese de Carlos.\n",
    "\n",
    "Equipe 1: 170, 165, 178, 160, 175\n",
    "\n",
    "Equipe 2: 175, 179, 168, 178, 163"
   ]
  },
  {
   "cell_type": "code",
   "execution_count": 26,
   "id": "e5f9f52d-2e93-4eac-ae71-59d5b12e0048",
   "metadata": {
    "id": "e5f9f52d-2e93-4eac-ae71-59d5b12e0048"
   },
   "outputs": [],
   "source": [
    "equipe1= [170, 165, 178, 160, 175]\n",
    "equipe2= [175, 179, 168, 178, 163]\n",
    "total= []"
   ]
  },
  {
   "cell_type": "code",
   "execution_count": 27,
   "id": "27c61a93-b8b0-42e6-b31c-ec6b2a8d0765",
   "metadata": {
    "colab": {
     "base_uri": "https://localhost:8080/"
    },
    "executionInfo": {
     "elapsed": 21,
     "status": "ok",
     "timestamp": 1724272271695,
     "user": {
      "displayName": "Samuel Junior",
      "userId": "06048015310716032839"
     },
     "user_tz": 180
    },
    "id": "27c61a93-b8b0-42e6-b31c-ec6b2a8d0765",
    "outputId": "28b2d23b-9c4a-4cbc-d502-835ae2bd34ae"
   },
   "outputs": [
    {
     "name": "stdout",
     "output_type": "stream",
     "text": [
      "A média da Equipe 1 é 169.6 e a média da Equipe 2 é 172.6\n"
     ]
    }
   ],
   "source": [
    "media1= np.mean(equipe1)\n",
    "media2= np.mean(equipe2)\n",
    "print(f'A média da Equipe 1 é {media1} e a média da Equipe 2 é {media2}')"
   ]
  },
  {
   "cell_type": "code",
   "execution_count": 28,
   "id": "7b1cd162-3ede-48f2-9dd8-b45727f24abd",
   "metadata": {
    "colab": {
     "base_uri": "https://localhost:8080/"
    },
    "executionInfo": {
     "elapsed": 20,
     "status": "ok",
     "timestamp": 1724272271696,
     "user": {
      "displayName": "Samuel Junior",
      "userId": "06048015310716032839"
     },
     "user_tz": 180
    },
    "id": "7b1cd162-3ede-48f2-9dd8-b45727f24abd",
    "outputId": "eb82561f-ae10-4a07-db8b-24fa01eae35f"
   },
   "outputs": [
    {
     "name": "stdout",
     "output_type": "stream",
     "text": [
      "6.529931086925803\n",
      "6.151422599691879\n"
     ]
    }
   ],
   "source": [
    "print(np.std(equipe1))\n",
    "print(np.std(equipe2))"
   ]
  },
  {
   "cell_type": "markdown",
   "id": "038dc234-7ee8-4bed-9172-9d6ac01faddb",
   "metadata": {
    "id": "038dc234-7ee8-4bed-9172-9d6ac01faddb"
   },
   "source": [
    "### Exemplo 2:\n",
    "Você foi designado para desenvolver um aplicativo móvel que rastreia o tempo gasto pelo usuário em exercícios físicos. Os dados registrados de um usuário, que refletem o número de minutos que o aplicativo gastou todos os dias durante um período de 10 dias, são apresentados abaixo:\n",
    "\n",
    "91, 76, 80, 113, 110, 80, 76, 85, 89, 93\n",
    "\n",
    "\n",
    "Calcule a mediana dos dados."
   ]
  },
  {
   "cell_type": "code",
   "execution_count": 29,
   "id": "b13cc647-7e71-4498-8db4-bb3d5ad29a55",
   "metadata": {
    "colab": {
     "base_uri": "https://localhost:8080/"
    },
    "executionInfo": {
     "elapsed": 18,
     "status": "ok",
     "timestamp": 1724272271696,
     "user": {
      "displayName": "Samuel Junior",
      "userId": "06048015310716032839"
     },
     "user_tz": 180
    },
    "id": "b13cc647-7e71-4498-8db4-bb3d5ad29a55",
    "outputId": "db50e802-6505-43d1-a39e-789e2cf74300"
   },
   "outputs": [
    {
     "data": {
      "text/plain": [
       "np.float64(87.0)"
      ]
     },
     "execution_count": 29,
     "metadata": {},
     "output_type": "execute_result"
    }
   ],
   "source": [
    "minutos = [91, 76, 80, 113, 110, 80, 76, 85, 89, 93]\n",
    "np.median(minutos)"
   ]
  },
  {
   "cell_type": "markdown",
   "id": "55094e50-47e1-489f-a6ca-a8182eb69f4a",
   "metadata": {
    "id": "55094e50-47e1-489f-a6ca-a8182eb69f4a"
   },
   "source": [
    "### Exemplo 3:\n",
    "\n",
    "Você recebeu a tarefa de analisar as vendas diárias de painéis solares de uma empresa durante um período. Os dados coletados são apresentados a seguir. Sua tarefa é calcular a moda, ou seja, determinar o valor que aparece com mais frequência nas vendas diárias.\n",
    "\n",
    "0, 4, 10, 15, 19,\n",
    "0, 4, 10, 15, 19,\n",
    "2, 6, 11, 15, 20,\n",
    "2, 8, 14, 16, 22."
   ]
  },
  {
   "cell_type": "code",
   "execution_count": 30,
   "id": "9a2b4413-00f1-4b67-80b5-e16d0613cc01",
   "metadata": {
    "id": "9a2b4413-00f1-4b67-80b5-e16d0613cc01"
   },
   "outputs": [],
   "source": [
    "vendas = [0, 4, 10, 15, 19, 0, 4, 10, 15, 19, 2, 6, 11, 15, 20, 2, 8, 14, 16, 22]"
   ]
  },
  {
   "cell_type": "code",
   "execution_count": 31,
   "id": "6ae33d88-d154-45da-b355-8dab58121b73",
   "metadata": {
    "colab": {
     "base_uri": "https://localhost:8080/"
    },
    "executionInfo": {
     "elapsed": 16,
     "status": "ok",
     "timestamp": 1724272271696,
     "user": {
      "displayName": "Samuel Junior",
      "userId": "06048015310716032839"
     },
     "user_tz": 180
    },
    "id": "6ae33d88-d154-45da-b355-8dab58121b73",
    "outputId": "f2ff1b7e-193e-4cd1-dbad-692308f7d83f"
   },
   "outputs": [
    {
     "name": "stdout",
     "output_type": "stream",
     "text": [
      "15\n"
     ]
    }
   ],
   "source": [
    "# Como numpy não há função que calcule a moda. Você pode usar o pacote de estatísticas.\n",
    "\n",
    "moda = statistics.mode(vendas)\n",
    "print(moda)"
   ]
  },
  {
   "cell_type": "code",
   "execution_count": 32,
   "id": "00a33072-4d86-4ac7-8f75-25a929420fff",
   "metadata": {
    "colab": {
     "base_uri": "https://localhost:8080/",
     "height": 523
    },
    "executionInfo": {
     "elapsed": 14,
     "status": "ok",
     "timestamp": 1724272271696,
     "user": {
      "displayName": "Samuel Junior",
      "userId": "06048015310716032839"
     },
     "user_tz": 180
    },
    "id": "00a33072-4d86-4ac7-8f75-25a929420fff",
    "outputId": "7776ab20-f255-474d-face-bfb4a8d14063"
   },
   "outputs": [
    {
     "data": {
      "text/plain": [
       "0 \n",
       "15    3\n",
       "2     2\n",
       "4     2\n",
       "10    2\n",
       "0     2\n",
       "19    2\n",
       "6     1\n",
       "8     1\n",
       "11    1\n",
       "14    1\n",
       "16    1\n",
       "20    1\n",
       "22    1\n",
       "Name: count, dtype: int64"
      ]
     },
     "execution_count": 32,
     "metadata": {},
     "output_type": "execute_result"
    }
   ],
   "source": [
    "#Com o método .value_counts() podemos determinar a frequência de cada um dos valores\n",
    "\n",
    "df_values = pd.DataFrame(vendas)\n",
    "df_values.value_counts()"
   ]
  },
  {
   "cell_type": "markdown",
   "id": "0c61f82a-5183-47e0-ba89-757c6c948260",
   "metadata": {
    "id": "0c61f82a-5183-47e0-ba89-757c6c948260"
   },
   "source": [
    "### Exemplo 4:\n",
    "\n",
    "Para cada uma das seguintes situações, você usaria a mediana ou a média para descrever o centro dos dados?\n",
    "\n",
    "Porque? (Pense na forma provável da distribuição..)\n",
    "\n",
    "\n",
    "a. Salário dos funcionários de uma empresa.\n",
    "\n",
    "b. Tempo gasto em um exame difícil.\n",
    "\n",
    "c. Pontuações em um teste padronizado.\n",
    "\n",
    "d. Número de solicitações para redefinir senhas de contas de e-mail individuais."
   ]
  },
  {
   "cell_type": "markdown",
   "id": "3e3c1a7f-a719-4ee5-851c-1afdbe106f57",
   "metadata": {
    "id": "3e3c1a7f-a719-4ee5-851c-1afdbe106f57"
   },
   "source": [
    "##### Solução\n",
    "\n",
    "\n",
    "a. . Neste caso, é conveniente utilizar a mediana, pois alguns salários elevados podem afetar a média. A curva de distribuição seria distorcida para a direita.\n",
    "\n",
    "b. Neste caso, a mediana é mais conveniente, visto que algumas pessoas podem demorar mais, o que faria com que a curva ficasse inclinada para a esquerda.\n",
    "\n",
    "c. A média, dado que neste tipo de situação os resultados de ambos os lados da média tendem a ser simétricos. A curva de distribuição é simétrica.\n",
    "\n",
    "d. Mediana. A maior parte do número de solicitações tende a ser baixa, apenas algumas contas teriam um número elevado de solicitações. A distribuição seria distorcida para a direita."
   ]
  },
  {
   "cell_type": "markdown",
   "id": "ab5015f3-f5ec-4ce6-84a2-36169c85e5e4",
   "metadata": {
    "id": "ab5015f3-f5ec-4ce6-84a2-36169c85e5e4"
   },
   "source": [
    "### Exemplo 5: Considere as seguintes observações:\n",
    "\n",
    "Grupo 1: 8,9,10,11,12\n",
    "\n",
    "Grupo 2: 8,9,10,11,100\n",
    "\n",
    "Grupo 3: 8,9,10,11,1000\n",
    "\n",
    "Encontre a média e a mediana de cada um desses grupos.\n",
    "\n",
    "Que conclusões você pode tirar desses resultados?\n",
    "\n",
    "#### Solução"
   ]
  },
  {
   "cell_type": "code",
   "execution_count": 33,
   "id": "9d7370f0-ef99-4ac8-8dbc-784e5814c367",
   "metadata": {
    "colab": {
     "base_uri": "https://localhost:8080/"
    },
    "executionInfo": {
     "elapsed": 13,
     "status": "ok",
     "timestamp": 1724272271696,
     "user": {
      "displayName": "Samuel Junior",
      "userId": "06048015310716032839"
     },
     "user_tz": 180
    },
    "id": "9d7370f0-ef99-4ac8-8dbc-784e5814c367",
    "outputId": "36ac20a9-cef7-4dff-b00a-eac031db2bd3"
   },
   "outputs": [
    {
     "name": "stdout",
     "output_type": "stream",
     "text": [
      "         Grupo 1  Grupo 2  Grupo 3\n",
      "Média       10.0     27.6    207.6\n",
      "Mediana     10.0     10.0     10.0\n"
     ]
    }
   ],
   "source": [
    "#Definir os dados em um DataFrame\n",
    "data = {\n",
    "    'Grupo 1': [8, 9, 10, 11, 12],\n",
    "    'Grupo 2': [8, 9, 10, 11, 100],\n",
    "    'Grupo 3': [8, 9, 10, 11, 1000]\n",
    "}\n",
    "\n",
    "df = pd.DataFrame(data)\n",
    "\n",
    "# Função para calcular média e mediana usando apply\n",
    "def calcular_estatisticas(grupo):\n",
    "    media = grupo.mean()\n",
    "    mediana = grupo.median()\n",
    "    return pd.Series([media, mediana], index=['Média', 'Mediana'])\n",
    "\n",
    "#Aplica a função a cada coluna do DataFrame\n",
    "resultados = df.apply(calcular_estatisticas)\n",
    "print(resultados)"
   ]
  },
  {
   "cell_type": "markdown",
   "id": "f9286379-518d-4cc4-b9bc-06290a761db0",
   "metadata": {
    "id": "f9286379-518d-4cc4-b9bc-06290a761db0"
   },
   "source": [
    "### Notemos como a mediana não muda na presença de um outlier.\n",
    "\n",
    "### Mas a média é afetada por esse valor atípico."
   ]
  },
  {
   "cell_type": "markdown",
   "id": "4ae41faa-bb67-46ac-82a2-006ddabacbac",
   "metadata": {
    "id": "4ae41faa-bb67-46ac-82a2-006ddabacbac"
   },
   "source": [
    "### Exemplo 6:\n",
    "\n",
    "Observe os gráficos de pontos para três conjuntos de dados.\n",
    "\n",
    "a. Para quais conjuntos de dados, se houver, você esperaria que a média e a mediana fossem iguais? Explique por quê.\n",
    "\n",
    "b. Para quais conjuntos de dados, se houver, você esperaria que a média e a mediana fossem diferentes? O que seria maior, a média ou a mediana? Porque?\n",
    "\n",
    "---"
   ]
  },
  {
   "cell_type": "code",
   "execution_count": 34,
   "id": "560c350d-50e1-4113-b8db-7b448a1affc3",
   "metadata": {
    "colab": {
     "base_uri": "https://localhost:8080/",
     "height": 381
    },
    "executionInfo": {
     "elapsed": 788,
     "status": "ok",
     "timestamp": 1724272272474,
     "user": {
      "displayName": "Samuel Junior",
      "userId": "06048015310716032839"
     },
     "user_tz": 180
    },
    "id": "560c350d-50e1-4113-b8db-7b448a1affc3",
    "outputId": "f54565d1-bfc2-4800-9a99-f5991cd809bf"
   },
   "outputs": [
    {
     "data": {
      "image/png": "[encoded data removed]",
      "text/plain": [
       "<Figure size 1500x500 with 3 Axes>"
      ]
     },
     "metadata": {},
     "output_type": "display_data"
    }
   ],
   "source": [
    "# Código do gráfico\n",
    "# Dados simulados\n",
    "data_numbers = {\n",
    "    'Distribuição 1': np.array([1,2,2,3,3,3,4,4,4,4,5,5,5,5,5,6,6,6,6,7,7,7,8,8,9]),\n",
    "    'Distribuição 2': np.array([1,1,1,2,2,2,2,3,3,3,3,3,4,4,4,4,4,4,5,5,5,6,6,7,9]),\n",
    "    'Distribuição 3': np.array([1,1,1,1,1,2,2,2,2,3,3,3,4,4,5,5,6,6,7,7,8,8,8,8,9])\n",
    "}\n",
    "\n",
    "# Criar as figuras e os eixos\n",
    "fig, axs = plt.subplots(1, 3, figsize=(15, 5))\n",
    "\n",
    "# Gerar cada um dos gráficos\n",
    "for ax, (title, values) in zip(axs, data_numbers.items()):\n",
    "    # Contar a frequência de cada valor\n",
    "    unique, counts = np.unique(values, return_counts=True)\n",
    "    y = np.concatenate([np.arange(count) for count in counts])\n",
    "    x = np.concatenate([np.full(count, item) for item, count in zip(unique, counts)])\n",
    "\n",
    "    # Criar o gráfico de dispersão\n",
    "    ax.scatter(x, y, c='black')\n",
    "    ax.set_title(title)\n",
    "    ax.set_xticks(np.arange(1, 10))\n",
    "    ax.set_yticks([])\n",
    "    ax.set_xlim(0.5, 9.5)\n",
    "    ax.grid(True)\n",
    "\n",
    "# Mostrar gráfico\n",
    "plt.tight_layout()\n",
    "plt.show()\n"
   ]
  },
  {
   "cell_type": "markdown",
   "id": "ba09fd47-c99b-4185-a180-2ee7f4fb52ed",
   "metadata": {
    "id": "ba09fd47-c99b-4185-a180-2ee7f4fb52ed"
   },
   "source": [
    "### Solução:\n",
    "\n",
    "\n",
    "a **Igualdade de média e mediana**:\n",
    "\n",
    "  - Distribuição 1: que para este conjunto de dados, a média e a mediana fossem iguais ou muito próximas. Olhando para a distribuição, ela parece simétrica em relação ao centro do intervalo de dados. Os pontos estão distribuídos uniformemente em torno do centro, indicando que o efeito dos valores nos extremos se equilibra.\n",
    "\n",
    "b. **Diferença entre média e mediana**:\n",
    "\n",
    "   - **Distribuição 2**: Neste conjunto, espera-se que a média e a mediana sejam diferentes. A presença do valor discrepante em 9 (muito longe do centro da distribuição) provavelmente puxará a média para um valor superior à mediana. Como a mediana é mais robusta para valores discrepantes, ela refletirá um ponto central que é mais representativo da maioria dos dados, enquanto a média será maior devido ao valor discrepante     elevado.\n",
    "\n",
    "   - **Distribuição 3**: Assim como na Distribuição 2, espera-se que a média seja maior que a mediana. Embora os dados pareçam ligeiramente simétricos, a presença de múltiplos valores nos extremos superiores (especialmente agrupando-se em torno de 8 e um valor em 9) tende a aumentar mais a média do que a mediana. Isso ocorre porque a mediana, que ficaria no meio do intervalo de dados (provavelmente entre 4 e 5), não é afetada por esses valores extremos superiores tanto quanto a média."
   ]
  },
  {
   "cell_type": "markdown",
   "id": "d31b09d1-a61c-4377-b5dc-af6944feb5d3",
   "metadata": {
    "id": "d31b09d1-a61c-4377-b5dc-af6944feb5d3"
   },
   "source": [
    "### Exemplo 7:\n",
    "\n",
    "\n",
    "Você trabalha em uma empresa localizada no centro da cidade e tem a tarefa de resolver o problema do alto consumo de gasolina pelos funcionários, situação que se agrava devido à expansão urbana, ao trânsito e ao uso de veículos grandes e ineficientes. Para promover o uso do transporte público, você decidiu investigar quantos quilômetros seus funcionários percorrem em transporte público durante um dia normal. Os valores para os seus 10 colaboradores (registados ao km mais próximo) são os seguintes:\n",
    "\n",
    "0, 0, 4, 0, 0, 10, 0, 6, 0, 0.\n",
    "\n",
    "a. Calcule e interprete a média, mediana e moda.\n",
    "\n",
    "b. Recentemente foi contratado um funcionário adicional que reside em outra cidade e viaja 145 quilômetros por dia de transporte. Recalcule a média e a mediana e descreva o efeito desse valor discrepante."
   ]
  },
  {
   "cell_type": "code",
   "execution_count": 35,
   "id": "b90fc3ef-7758-4e5f-a852-bb6143a50f5d",
   "metadata": {
    "colab": {
     "base_uri": "https://localhost:8080/"
    },
    "executionInfo": {
     "elapsed": 6,
     "status": "ok",
     "timestamp": 1724272272474,
     "user": {
      "displayName": "Samuel Junior",
      "userId": "06048015310716032839"
     },
     "user_tz": 180
    },
    "id": "b90fc3ef-7758-4e5f-a852-bb6143a50f5d",
    "outputId": "81916d65-720d-4ea4-de82-cfb9f863697b"
   },
   "outputs": [
    {
     "name": "stdout",
     "output_type": "stream",
     "text": [
      "Média original: 2.0\n",
      "Mediana original: 0.0\n",
      "Moda original: ModeResult(mode=np.int64(0), count=np.int64(7))\n",
      "Depois de adicionar o valor atípico:\n",
      "Média nova: 15.0\n",
      "Mediana nova: 0.0\n"
     ]
    }
   ],
   "source": [
    "\n",
    "\n",
    "# Dados originais\n",
    "kilometros = np.array([0, 0, 4, 0, 0, 10, 0, 6, 0, 0])\n",
    "\n",
    "# Calcular media, mediana e moda\n",
    "media_original = np.mean(kilometros)\n",
    "mediana_original = np.median(kilometros)\n",
    "moda_original = stats.mode(kilometros)  # A função mode devolve também a frequência\n",
    "\n",
    "# Adicionar o valor atípico\n",
    "dados_atipico = np.append(kilometros, 145)\n",
    "\n",
    "# Recalcular média e mediana com valor discrepante\n",
    "media_nova = np.mean(dados_atipico)\n",
    "mediana_nova = np.median(dados_atipico)\n",
    "\n",
    "print(f\"Média original: {media_original}\")\n",
    "print(f\"Mediana original: {mediana_original}\")\n",
    "print(f\"Moda original: {moda_original}\")\n",
    "print(\"Depois de adicionar o valor atípico:\")\n",
    "print(f\"Média nova: {media_nova}\")\n",
    "print(f\"Mediana nova: {mediana_nova}\")"
   ]
  },
  {
   "cell_type": "markdown",
   "id": "14ae44c9-d210-4bcb-a330-b94f493b9281",
   "metadata": {
    "id": "14ae44c9-d210-4bcb-a330-b94f493b9281"
   },
   "source": [
    "### Exemplo 8\n",
    "\n",
    "\n",
    "A figura a seguir mostra histogramas para três amostras, cada uma com tamanho de amostra \\( n = 100 \\).\n",
    "\n",
    "Qual amostra tem o (i) maior e (ii) menor desvio padrão?\n",
    "\n",
    "---"
   ]
  },
  {
   "cell_type": "code",
   "execution_count": 36,
   "id": "ebf14d73-efa9-4b32-8d6c-f0a8e8dcada6",
   "metadata": {
    "colab": {
     "base_uri": "https://localhost:8080/",
     "height": 307
    },
    "executionInfo": {
     "elapsed": 1003,
     "status": "ok",
     "timestamp": 1724272273473,
     "user": {
      "displayName": "Samuel Junior",
      "userId": "06048015310716032839"
     },
     "user_tz": 180
    },
    "id": "ebf14d73-efa9-4b32-8d6c-f0a8e8dcada6",
    "outputId": "6cbc43a0-e625-4252-b174-7a1ad85f3e6e"
   },
   "outputs": [
    {
     "data": {
      "image/png": "[encoded data removed]",
      "text/plain": [
       "<Figure size 1500x400 with 3 Axes>"
      ]
     },
     "metadata": {},
     "output_type": "display_data"
    }
   ],
   "source": [
    "#Codigo da figura\n",
    "\n",
    "# Dados simulados representando distribuições\n",
    "data1 = np.random.normal(loc=4, scale=1, size=1000)\n",
    "data2 = np.random.normal(loc=5, scale=0.5, size=500)\n",
    "data2 = np.append(data2, np.random.normal(loc=5, scale=0.1, size=500))  # Adicionar pico\n",
    "data3 = np.random.normal(loc=3, scale=0.8, size=500)\n",
    "data3 = np.append(data3, np.random.normal(loc=7, scale=0.8, size=500))  # Distribuição bimodal\n",
    "\n",
    "# Crie a figura e os eixos\n",
    "fig, axs = plt.subplots(1, 3, figsize=(15, 4))\n",
    "\n",
    "# Ajustes para cada histograma\n",
    "bins = np.linspace(1, 9, 20)  # Bins comum a todos os histogramas para fácil comparação\n",
    "\n",
    "axs[0].hist(data1, bins=bins, color='blue', alpha=0.7)\n",
    "axs[0].set_title('Distribuição 1')\n",
    "axs[0].set_xlim(1, 9)\n",
    "\n",
    "axs[1].hist(data2, bins=bins, color='yellow', alpha=0.7)\n",
    "axs[1].set_title('Distribuição 2')\n",
    "axs[1].set_xlim(1, 9)\n",
    "\n",
    "axs[2].hist(data3, bins=bins, color='red', alpha=0.7)\n",
    "axs[2].set_title('Distribuição 3')\n",
    "axs[2].set_xlim(1, 9)\n",
    "\n",
    "# Mostrar gráfico\n",
    "plt.tight_layout()\n",
    "plt.show()"
   ]
  },
  {
   "cell_type": "markdown",
   "id": "b4a38ed9-472d-4c9a-b702-cd20d5d39ef1",
   "metadata": {
    "id": "b4a38ed9-472d-4c9a-b702-cd20d5d39ef1"
   },
   "source": [
    "#### Solução:\n",
    "    \n",
    "O maior desvio padrão é encontrado na Distribuição 3, devido à separação entre os dois picos que aumenta a variabilidade global.\n",
    "\n",
    "A Distribuição 2 tem o desvio padrão mais baixo, em parte porque a grande maioria dos dados está concentrada em torno de uma média com baixa variabilidade, embora o pico estreito aumente ligeiramente o desvio padrão, não o faz o suficiente para ultrapassar a Distribuição 1."
   ]
  },
  {
   "cell_type": "markdown",
   "id": "41151fb5-ec2c-4404-a76b-6477f69b0eeb",
   "metadata": {
    "id": "41151fb5-ec2c-4404-a76b-6477f69b0eeb"
   },
   "source": [
    "### Exemplo 9:\n",
    "(Exercício retirado de https://onlinestatbook.com/Online_Statistics_Education.pdf, página 156, exercício 6)\n",
    "\n",
    "Você registrou o tempo em segundos que 8 participantes levaram para resolver um quebra-cabeça.\n",
    "Esses horários aparecem abaixo. No entanto, quando os dados foram inseridos no\n",
    "programa estatístico, a pontuação que deveria ser 22.1 foi inserida como 21.2.\n",
    "\n",
    "Você calculou as seguintes medidas de tendência central: a média, a\n",
    "mediana, e a média foi reduzida em 25%. Qual destas medidas de centralidade\n",
    "a tendência mudará quando você corrigir o erro de gravação?\n",
    "\n",
    "| Tempo (segundos) |\n",
    "|:------------:|\n",
    "| 15.2 |\n",
    "| 18.8 |\n",
    "| 19.3 |\n",
    "| 19.7 |\n",
    "| 20.2 |\n",
    "| 21.8 |\n",
    "| 22.1 |\n",
    "| 29.4 |"
   ]
  },
  {
   "cell_type": "code",
   "execution_count": 37,
   "id": "9ac02c19-12d3-4871-bdbf-9108f3bc57f4",
   "metadata": {
    "colab": {
     "base_uri": "https://localhost:8080/",
     "height": 300
    },
    "executionInfo": {
     "elapsed": 16,
     "status": "ok",
     "timestamp": 1724272273474,
     "user": {
      "displayName": "Samuel Junior",
      "userId": "06048015310716032839"
     },
     "user_tz": 180
    },
    "id": "9ac02c19-12d3-4871-bdbf-9108f3bc57f4",
    "outputId": "ae8d6baf-f070-4cf1-b2a4-b0dd3d069e7a"
   },
   "outputs": [
    {
     "data": {
      "text/html": [
       "<div>\n",
       "<style scoped>\n",
       "    .dataframe tbody tr th:only-of-type {\n",
       "        vertical-align: middle;\n",
       "    }\n",
       "\n",
       "    .dataframe tbody tr th {\n",
       "        vertical-align: top;\n",
       "    }\n",
       "\n",
       "    .dataframe thead th {\n",
       "        text-align: right;\n",
       "    }\n",
       "</style>\n",
       "<table border=\"1\" class=\"dataframe\">\n",
       "  <thead>\n",
       "    <tr style=\"text-align: right;\">\n",
       "      <th></th>\n",
       "      <th>Time</th>\n",
       "    </tr>\n",
       "  </thead>\n",
       "  <tbody>\n",
       "    <tr>\n",
       "      <th>0</th>\n",
       "      <td>15.2</td>\n",
       "    </tr>\n",
       "    <tr>\n",
       "      <th>1</th>\n",
       "      <td>18.8</td>\n",
       "    </tr>\n",
       "    <tr>\n",
       "      <th>2</th>\n",
       "      <td>19.3</td>\n",
       "    </tr>\n",
       "    <tr>\n",
       "      <th>3</th>\n",
       "      <td>19.7</td>\n",
       "    </tr>\n",
       "    <tr>\n",
       "      <th>4</th>\n",
       "      <td>20.2</td>\n",
       "    </tr>\n",
       "    <tr>\n",
       "      <th>5</th>\n",
       "      <td>21.8</td>\n",
       "    </tr>\n",
       "    <tr>\n",
       "      <th>6</th>\n",
       "      <td>22.1</td>\n",
       "    </tr>\n",
       "    <tr>\n",
       "      <th>7</th>\n",
       "      <td>29.4</td>\n",
       "    </tr>\n",
       "  </tbody>\n",
       "</table>\n",
       "</div>"
      ],
      "text/plain": [
       "   Time\n",
       "0  15.2\n",
       "1  18.8\n",
       "2  19.3\n",
       "3  19.7\n",
       "4  20.2\n",
       "5  21.8\n",
       "6  22.1\n",
       "7  29.4"
      ]
     },
     "execution_count": 37,
     "metadata": {},
     "output_type": "execute_result"
    }
   ],
   "source": [
    "# We create a dictionary\n",
    "times_participants = {\n",
    "    'Time': [15.2, 18.8, 19.3, 19.7, 20.2, 21.8, 22.1, 29.4]\n",
    "}\n",
    "\n",
    "df = pd.DataFrame(times_participants)\n",
    "\n",
    "# Mostrar o DataFrame\n",
    "df"
   ]
  },
  {
   "cell_type": "code",
   "execution_count": 38,
   "id": "bd7b0552-ef6a-47a7-ba7f-aeb7431d46f7",
   "metadata": {
    "colab": {
     "base_uri": "https://localhost:8080/",
     "height": 300
    },
    "executionInfo": {
     "elapsed": 14,
     "status": "ok",
     "timestamp": 1724272273474,
     "user": {
      "displayName": "Samuel Junior",
      "userId": "06048015310716032839"
     },
     "user_tz": 180
    },
    "id": "bd7b0552-ef6a-47a7-ba7f-aeb7431d46f7",
    "outputId": "ef49b45b-f9c9-4d09-d158-e74a9926f56b"
   },
   "outputs": [
    {
     "data": {
      "text/html": [
       "<div>\n",
       "<style scoped>\n",
       "    .dataframe tbody tr th:only-of-type {\n",
       "        vertical-align: middle;\n",
       "    }\n",
       "\n",
       "    .dataframe tbody tr th {\n",
       "        vertical-align: top;\n",
       "    }\n",
       "\n",
       "    .dataframe thead th {\n",
       "        text-align: right;\n",
       "    }\n",
       "</style>\n",
       "<table border=\"1\" class=\"dataframe\">\n",
       "  <thead>\n",
       "    <tr style=\"text-align: right;\">\n",
       "      <th></th>\n",
       "      <th>Time</th>\n",
       "    </tr>\n",
       "  </thead>\n",
       "  <tbody>\n",
       "    <tr>\n",
       "      <th>count</th>\n",
       "      <td>8.000000</td>\n",
       "    </tr>\n",
       "    <tr>\n",
       "      <th>mean</th>\n",
       "      <td>20.812500</td>\n",
       "    </tr>\n",
       "    <tr>\n",
       "      <th>std</th>\n",
       "      <td>4.067796</td>\n",
       "    </tr>\n",
       "    <tr>\n",
       "      <th>min</th>\n",
       "      <td>15.200000</td>\n",
       "    </tr>\n",
       "    <tr>\n",
       "      <th>25%</th>\n",
       "      <td>19.175000</td>\n",
       "    </tr>\n",
       "    <tr>\n",
       "      <th>50%</th>\n",
       "      <td>19.950000</td>\n",
       "    </tr>\n",
       "    <tr>\n",
       "      <th>75%</th>\n",
       "      <td>21.875000</td>\n",
       "    </tr>\n",
       "    <tr>\n",
       "      <th>max</th>\n",
       "      <td>29.400000</td>\n",
       "    </tr>\n",
       "  </tbody>\n",
       "</table>\n",
       "</div>"
      ],
      "text/plain": [
       "            Time\n",
       "count   8.000000\n",
       "mean   20.812500\n",
       "std     4.067796\n",
       "min    15.200000\n",
       "25%    19.175000\n",
       "50%    19.950000\n",
       "75%    21.875000\n",
       "max    29.400000"
      ]
     },
     "execution_count": 38,
     "metadata": {},
     "output_type": "execute_result"
    }
   ],
   "source": [
    "df.describe()"
   ]
  },
  {
   "cell_type": "markdown",
   "id": "ab7006b0-d038-4ecc-8a72-7fe4fe9368a0",
   "metadata": {
    "id": "ab7006b0-d038-4ecc-8a72-7fe4fe9368a0"
   },
   "source": [
    "### Exemplo 10: (Média ponderada)\n",
    "Você precisa calcular a nota final com base em diversas atividades avaliadas durante o curso. Cada atividade tem um peso diferente dependendo da sua importância.\n",
    "\n",
    "As classificações e pesos são mostrados abaixo:\n",
    "\n",
    "\n",
    "| Avaliação | Avaliação | Peso |\n",
    "|--------------|--------------|------|\n",
    "| Exame 1 | 85 | 0.3 |\n",
    "| Exame 2 | 90 | 0.4 |\n",
    "| Tarefa | 78 | 0.1 |\n",
    "| Projeto Final | 92 | 0.2 |\n",
    "\n",
    "Determine a nota final do aluno usando a média ponderada.\n",
    "\n",
    "#### Solução:"
   ]
  },
  {
   "cell_type": "code",
   "execution_count": 39,
   "id": "8508d300-9f68-48e3-947a-8123e4dc271f",
   "metadata": {
    "colab": {
     "base_uri": "https://localhost:8080/"
    },
    "executionInfo": {
     "elapsed": 13,
     "status": "ok",
     "timestamp": 1724272273474,
     "user": {
      "displayName": "Samuel Junior",
      "userId": "06048015310716032839"
     },
     "user_tz": 180
    },
    "id": "8508d300-9f68-48e3-947a-8123e4dc271f",
    "outputId": "08cb5311-3638-4453-ec7b-14d52bc1a24b"
   },
   "outputs": [
    {
     "name": "stdout",
     "output_type": "stream",
     "text": [
      "A média final do estudante é: 87.70\n"
     ]
    }
   ],
   "source": [
    "\n",
    "\n",
    "# Dados das avaliações e seus respectivos pesos\n",
    "notas = [85, 90, 78, 92]  # notas obtidas\n",
    "pesos = [0.3, 0.4, 0.1, 0.2]       # Peso de cada nota\n",
    "\n",
    "# Calculamos a media ponderada, .dot faz multiplicação das duas listas\n",
    "nota_final = np.dot(notas, pesos) / np.sum(pesos)\n",
    "\n",
    "print(f\"A média final do estudante é: {nota_final:.2f}\")\n"
   ]
  },
  {
   "cell_type": "code",
   "execution_count": null,
   "id": "52cca6a3-4472-445f-9243-9772b5f4e2e8",
   "metadata": {
    "id": "52cca6a3-4472-445f-9243-9772b5f4e2e8"
   },
   "outputs": [],
   "source": []
  }
 ],
 "metadata": {
  "colab": {
   "provenance": []
  },
  "kernelspec": {
   "display_name": "Python 3",
   "language": "python",
   "name": "python3"
  },
  "language_info": {
   "codemirror_mode": {
    "name": "ipython",
    "version": 3
   },
   "file_extension": ".py",
   "mimetype": "text/x-python",
   "name": "python",
   "nbconvert_exporter": "python",
   "pygments_lexer": "ipython3",
   "version": "3.12.10"
  }
 },
 "nbformat": 4,
 "nbformat_minor": 5
}
