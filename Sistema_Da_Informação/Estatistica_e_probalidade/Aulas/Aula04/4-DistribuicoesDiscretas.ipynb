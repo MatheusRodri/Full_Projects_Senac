{
 "cells": [
  {
   "cell_type": "markdown",
   "id": "a4881ac4",
   "metadata": {
    "id": "a4881ac4"
   },
   "source": [
    "\n",
    "\n",
    "\n",
    "\n",
    "# Distribuições discretas\n",
    "\n",
    "\n",
    "## O que é uma variável aleatória?\n",
    "\n",
    "Dentro de um espaço amostral S associado a algum experimento, uma variável aleatória é definida como qualquer regra que assume um número a cada resultado em S. Exemplos:\n",
    "\n",
    "\n",
    "- Resultado de um lançamento de um dado.\n",
    "- Altura de um estudante selecionado ao acaso de um colégio.\n",
    "- Tempo de navegação de um usuário em uma página web.\n",
    "\n",
    "\n",
    "Usamos letras maiúsculas como $X$ ou $Y$ para denotar variáveis aleatórias.\n",
    "\n",
    "As variáveis aleatórias são divididas em dois grupos:\n",
    "as variáveis aleatórias discretas e as variáveis aleatórias contínuas."
   ]
  },
  {
   "cell_type": "markdown",
   "id": "47ba547c",
   "metadata": {
    "id": "47ba547c"
   },
   "source": [
    "## Variáveis aleatórias discretas:\n",
    "\n",
    "Uma variável aleatória discreta corresponde a aquela cujo valor pude variar dentro de um conjunto finito e contável de valores. Não pode assumir valores intermediários (decimais).\n",
    "\n",
    "Por exemplo, no lançamento de um dado, podemos definir uma variável aleatória $X$ que indique o resultado aleatório do lançamento de este dado. A variável $X$ pode obter qualquer dos valores $[1,2,3,4,5,6]$.  \n",
    "\n",
    "### Distribuição de probabilidade\n",
    "\n",
    "A **distribuição de probabilidade** de uma variável aleatória discreta é uma lista de probabilidades associadas a cada um dos valores discretos de determinada variável. A distribuição de probabilidade também é conhecida como **função de probabilidade** ou **função de massa de probabilidade (FMP)**.\n",
    "\n",
    "Matematicamente, suponha que uma variável aleatória discreta $X$ pode ter $k$ valores diferentes. Então, a probabilidade de que $X=x_i$ é definida como $P(X=x_i=p_i)$. As probabilidades $p_i$ devem satisfazem as seguintes condições:\n",
    "\n",
    "1. Cada probabilidade é um número entre 0 e 1:\n",
    "\n",
    "  $0<p_i<1$, $\\forall$ $i=1, 2, \\cdots,k$.\n",
    "\n",
    "2. A soma de todas as probabilidades é 1:\n",
    "\n",
    "  $\\sum_{i=0}^k p_i=1\\iff p_1 + p_2 + \\cdots + p_k=1$.\n",
    "\n",
    "Alguns exemplos de distribuições de probabilidades discretas são:\n",
    "\n",
    "- A distribuição de Bernoulli.\n",
    "- A distribuição Binomial.\n",
    "- A distribuição de Poisson.\n"
   ]
  },
  {
   "cell_type": "code",
   "execution_count": 1,
   "id": "0773daee",
   "metadata": {
    "executionInfo": {
     "elapsed": 1532,
     "status": "ok",
     "timestamp": 1726181049639,
     "user": {
      "displayName": "Samuel Junior",
      "userId": "06048015310716032839"
     },
     "user_tz": 180
    },
    "id": "0773daee"
   },
   "outputs": [],
   "source": [
    "# bibliotecas\n",
    "import numpy as np\n",
    "import matplotlib.pyplot as plt\n",
    "import scipy.stats as stats\n"
   ]
  },
  {
   "cell_type": "markdown",
   "id": "e5a25026",
   "metadata": {
    "id": "e5a25026"
   },
   "source": [
    "### Exemplo 1:\n",
    "\n",
    "Em uma sala de estatística temos as classificações segundo a seguinte distribuição:\n",
    "\n",
    "- A: 0.15\n",
    "- B: 0.35\n",
    "- C: 0.30\n",
    "- D: 0.16\n",
    "- F: 0.04\n",
    "\n",
    "a) Defina a variável aleatória X como o número de pontos de avalições dados por cada classificação (é dizer, para 'A' temos 4 pontos, para 'B' 3 pontos, para 'C' 2 pontos, para 'D' 1 ponto e para 'F' 0 pontos). Escreva a distribuição de probabilidade de X.\n",
    "\n",
    "b) Ela é realmente uma distribuição de probabilidade?\n",
    "\n",
    "c) Qual é a probabilidade de que X seja menor que 3?\n",
    "\n",
    "d) Qual é a probabilidade de que X seja menor ou igual a 3?\n",
    "\n",
    "e) Faça o histograma de probabilidade para esta distribuição.\n",
    "\n",
    "### Solução:\n",
    "\n",
    "a) A distribuição de probabilidade de $ X $ é\n",
    "\n",
    "| X   | P(X) |\n",
    "|-----|------|\n",
    "| 4   | 0.15 |\n",
    "| 3   | 0.35 |\n",
    "| 2   | 0.30 |\n",
    "| 1   | 0.16 |\n",
    "| 0   | 0.04 |\n",
    "\n",
    "\n",
    "b) É uma distribuição de probabilidade dado que cumpre que cada probabilidade é um número entre 0 e 1 e a soma de $P(X)$ é 1.\n",
    "\n",
    "c) Devemos calcular $P(X<3)$, que é equivalente a\n",
    "\n",
    "$$ P(X<3) = P(X=0) + P(X=1)+ P(X=2)= 0.04 + 0.16 + 0.3 =0.5$$"
   ]
  },
  {
   "cell_type": "code",
   "execution_count": 2,
   "id": "6f11429a",
   "metadata": {
    "id": "6f11429a",
    "outputId": "ed85910f-94bd-44dc-90fa-63c751f45331"
   },
   "outputs": [
    {
     "name": "stdout",
     "output_type": "stream",
     "text": [
      "0.5\n"
     ]
    }
   ],
   "source": [
    "prob1 = 0.04 + 0.16 + 0.3\n",
    "print(prob1)"
   ]
  },
  {
   "cell_type": "markdown",
   "id": "27250d7d",
   "metadata": {
    "id": "27250d7d"
   },
   "source": [
    "d) Devemos calcular $P(X\\leq 3)$, que é equivalente a\n",
    "\n",
    "$$ P(X\\leq 3) = P(X=0) + P(X=1)+ P(X=2) + P(X=3)= 0.04 + 0.16 + 0.3 +0.35=0.85$$"
   ]
  },
  {
   "cell_type": "code",
   "execution_count": 3,
   "id": "8e688448",
   "metadata": {
    "id": "8e688448",
    "outputId": "16d93113-cedf-4854-b77f-b1ea689542b4",
    "scrolled": true
   },
   "outputs": [
    {
     "name": "stdout",
     "output_type": "stream",
     "text": [
      "0.85\n"
     ]
    }
   ],
   "source": [
    "prob2 = 0.04 + 0.16 + 0.3 +0.35\n",
    "print(prob2)"
   ]
  },
  {
   "cell_type": "code",
   "execution_count": 4,
   "id": "e652190f",
   "metadata": {
    "id": "e652190f",
    "outputId": "8e406432-77ed-48fd-e990-76da88f4499f"
   },
   "outputs": [
    {
     "data": {
      "image/png": "[encoded data removed]",
      "text/plain": [
       "<Figure size 640x480 with 1 Axes>"
      ]
     },
     "metadata": {},
     "output_type": "display_data"
    }
   ],
   "source": [
    "#Histograma.\n",
    "\n",
    "X = [4, 3, 2, 1, 0]\n",
    "P_X = [0.15, 0.35, 0.30, 0.16, 0.04]\n",
    "\n",
    "# Criar o barras\n",
    "plt.bar(X, P_X, width=1.0, color='green', edgecolor='black')\n",
    "\n",
    "# Títulos e eixos\n",
    "plt.title('Histograma para a Distribuição de Probabilidade')\n",
    "plt.xlabel('X')\n",
    "plt.ylabel('P(X)')\n",
    "\n",
    "# Configurar os limites e escala dos eixos\n",
    "plt.xticks(X)  # Certificar que todos os valores de X serão mostrados\n",
    "plt.yticks([0, 0.1, 0.2, 0.3, 0.4])  # Pode ajustar como achar melhor\n",
    "\n",
    "# Mostrar\n",
    "plt.show()\n",
    "\n"
   ]
  },
  {
   "cell_type": "markdown",
   "id": "ff0ba918",
   "metadata": {
    "id": "ff0ba918"
   },
   "source": [
    "### Exemplo:\n",
    "\n",
    "Uma importadora de tecnologia para a américa latina, adquiriu cinco lotes de componentes. A quantidade de componentes defeituosos em cada lote está apresentado na tabela:\n",
    "\n",
    "\n",
    "| Lote           | 1 | 2 | 3 | 4 | 5 |\n",
    "|----------------|---|---|---|---|---|\n",
    "| # defeituosos  | 0 | 2 | 1 | 2 | 1 |\n",
    "\n",
    "\n",
    "Seja $X$ a variável aleatória definida como o número de componentes defeituosos em um lote selecionados ao acaso (ou aleatoriamente).\n",
    "\n",
    "Monte a distribuição de probabilidade de $X$.\n",
    "\n"
   ]
  },
  {
   "cell_type": "markdown",
   "id": "f7d08c00",
   "metadata": {
    "id": "f7d08c00"
   },
   "source": [
    "### Solução:\n",
    "\n",
    "Existem trÇes valores possíveis para $X$ 0, 1, e 2. Ao montar a tabela, temos cinco eventos equiprováveis, um deles resulta em $X=0$, dois em $X=1$ e os dois restantes em $X=2$.\n",
    "\n",
    "Então, as probabilidades são:\n",
    "\n",
    "\n",
    "- A probabilidade de que $X=0$ é $P(X=0)=P(\\text{lote 1 seleccionado}) = 1/5 = 0.2$\n",
    "- A probabilidade de que $X=1$ é $P(X=1)=P(\\text{lote 3 e 5 seleccionado}) = 2/5 = 0.4$\n",
    "- A probabilidade de que $X=2$ é $P(X=2)=P(\\text{lote 2 e 4 seleccionado}) = 2/5 = 0.4$\n",
    "\n",
    "\n",
    "**Tabela de Distribuição de Probabilidade de $X$:**\n",
    "\n",
    "| Valor de $X$ | Probabilidade |\n",
    "|--------------|---------------|\n",
    "| 0            | 0.2           |\n",
    "| 1            | 0.4           |\n",
    "| 2            | 0.4           |\n",
    "\n",
    "\n"
   ]
  },
  {
   "cell_type": "markdown",
   "id": "cdad877c",
   "metadata": {
    "id": "cdad877c"
   },
   "source": [
    "## Valor Esperado\n",
    "\n",
    "\n",
    "Seja X uma variável aleatória com distribuição de probabilidade p(x). A média ou o valor esperado de X é:\n",
    "\n",
    "\n",
    "$ \\mu = E(X)=\\sum_{x} x\\cdot p(x)$\n",
    "\n",
    "O valor esperado é representado como $\\mu_x$ ou simplesmente $\\mu$, quando está claro a qual variável se refere. Normalmente esta média é denominada como esperança matemática ou o valor esperado da variável aleatória $X$, e é simbolizada como $E(X)$.\n"
   ]
  },
  {
   "cell_type": "markdown",
   "id": "16a7b501",
   "metadata": {
    "id": "16a7b501"
   },
   "source": [
    "### Exemplo:\n",
    "\n",
    "Consideremos de novo a situação do Exemplo anterior. Calculemos o valor esperado de X.\n",
    "\n",
    "Como a distribuição de probabilidade de $X$ é:\n",
    "\n",
    "| X   | P(X) |\n",
    "|-----|------|\n",
    "| 4   | 0.15 |\n",
    "| 3   | 0.35 |\n",
    "| 2   | 0.30 |\n",
    "| 1   | 0.16 |\n",
    "| 0   | 0.04 |\n",
    "\n",
    "então seu valor esperado é:\n",
    "   \n",
    "   $E[X] = \\sum_{i} x_i \\cdot P(x_i)= 0.60 + 1.05 + 0.60 + 0.16 + 0.00 = 2.41$"
   ]
  },
  {
   "cell_type": "code",
   "execution_count": 5,
   "id": "6fbe2faf",
   "metadata": {
    "id": "6fbe2faf",
    "outputId": "8f83fdd6-c82d-416a-ad0a-6961a7d64958"
   },
   "outputs": [
    {
     "name": "stdout",
     "output_type": "stream",
     "text": [
      "2.4099999999999997\n"
     ]
    }
   ],
   "source": [
    "#Criar a lista com os valores de X e as respectivas probabilidades\n",
    "valores_X = [4, 3, 2, 1, 0]\n",
    "\n",
    "probabilidades_X = [0.15, 0.35, 0.30, 0.16, 0.04]\n",
    "\n",
    "# Calcular o valor esperado\n",
    "\n",
    "valor_esperado_X = sum(x * p for x, p in zip(valores_X, probabilidades_X))\n",
    "print(valor_esperado_X)\n"
   ]
  },
  {
   "cell_type": "markdown",
   "id": "70d2d64f",
   "metadata": {
    "id": "70d2d64f"
   },
   "source": [
    "## Função de distribuição acumulada (CDF - Cumulative distribution function)\n",
    "\n",
    "A função de distribuição acumulada de uma variável aleatória $X$, calculada em $x$, é a probabilidade de que $X$ tome valores iguais ou menores que $x$. Matematicamente é:\n",
    "\n",
    "\\begin{equation}\n",
    "  F_X(x)=P(X\\leq x)\n",
    "\\end{equation}\n"
   ]
  },
  {
   "cell_type": "markdown",
   "id": "c9f99375",
   "metadata": {
    "id": "c9f99375"
   },
   "source": [
    "### Distribuição de Bernoulli\n",
    "\n",
    "A distribuição de Bernoulli é uma distribuição em que existem somente dois resultados possíveis para uma variável aleatória discreta: sucesso ou fracasso. É denotada normalmente como Ber(p), onde p é a probabilidade de sucesso em um único ensaio.\n",
    "\n",
    "As características chave da distribuição de Bernoulli são:\n",
    "\n",
    "\n",
    "**1. Dois Resultados Possíveis:** A variável aleatória pode ter somente dois valores: 1 (sucesso) ou 0 (fracasso).\n",
    "   \n",
    "**2. Parâmetro de Probabilidade:** O parâmetro $p$ representa a probabilidade de sucesso em um único ensaio (ou tentativa).\n",
    "\n",
    "**3. Função de Massa de Probabilidade (FMP):** A função de massa de probabilidade para a distribuição de Bernoulli é:\n",
    "\n",
    " $ P(X = k) =\n",
    "\\begin{cases}\n",
    "p, & \\text{si } k = 1 \\\\\n",
    "1-p, & \\text{si } k = 0\n",
    "\\end{cases}\n",
    "$\n",
    "\n",
    "Onde X é a variável aleatória e k é o valor que ela pode assumir (0 ou 1).\n"
   ]
  },
  {
   "cell_type": "markdown",
   "id": "d3d3ee13",
   "metadata": {
    "id": "d3d3ee13"
   },
   "source": [
    "## Distribuição binomial\n",
    "\n",
    "\n",
    "Uma variável aleatória com uma distribuição binomial é caracterizada por dois parâmetros fundamentais:\n",
    "\n",
    "- O número de tentativas, representado por $n$, indica quantas vezes o experimento aconteceu.\n",
    "- A probabilidade de sucesso de cada tentativa, é denotada por $p$.\n",
    "\n",
    "Se designarmos como $X$ uma variável aleatória com distribuição binomial, é representada como $X \\sim B(n, p)$. Também, $B(n, p, k)$ denota a probabilidade de que $X$ seja igual a $k$.\n",
    "\n",
    "Se $X \\sim B(n, p)$, então a probabilidade $P(X = k)$ é calculada com a expressão:\n",
    "\n",
    "$$ P(X = k) = \\binom{n}{k} p^k (1 - p)^{n - k} $$\n",
    "\n",
    "onde $k$ pode ser os valores no intervalo $0, 1, \\ldots, n$.\n",
    "\n",
    "\n",
    "\n",
    "- O **valor esperado** (ou média) de uma variável aleatória com distribuição binomial é:\n",
    "\n",
    "  $$ E(X) = \\mu = n \\cdot p $$\n",
    "\n",
    "- A **variância** de uma variável aleatória com distribuição binomial é:\n",
    "\n",
    "$$ \\text{Var}(X) = \\sigma^2 = n \\cdot p \\cdot (1 - p) $$\n",
    "\n",
    "- O **desvio padrão** de uma variável aleatória com distribuição bimnomial é:\n",
    "\n",
    "$$ \\sigma = \\sqrt{n \\cdot p \\cdot (1 - p)} $$\n",
    "\n"
   ]
  },
  {
   "cell_type": "markdown",
   "id": "1e31d07b",
   "metadata": {
    "id": "1e31d07b"
   },
   "source": [
    "### Exemplo:\n",
    "\n",
    "Um determinado serviço de entregas informa que 95% das compras por internet de que serão enviados para a mesma cidade, são entregues com um prazo de 2 dias a partir do momento de seu envio. Foram enviadas 6 encomendas de forma aleatória para diferentes endereços.\n",
    "\n",
    "a) Qual é a probabilidade de que as 6 encomendas cheguem dentro do prazo de 2 dias?\n",
    "\n",
    "b) Qual é a probabilidade de que exatamente cinco encomendas cheguem dentro de um prazo de 2 dias?\n",
    "\n",
    "c) Determine a média do número de encomendas que chegam dentro do prazo de 2 dias.\n",
    "\n",
    "d) Calcule a variância e seu desvio padrão do número de encomendas que chegam dentro de um prazo de dois dias.\n",
    "\n",
    "e) Mostrar a distribuição em um gráfico."
   ]
  },
  {
   "cell_type": "markdown",
   "id": "a1a6b475",
   "metadata": {
    "id": "a1a6b475"
   },
   "source": [
    "### Solução\n",
    "\n",
    "Podemos modelar este problema com uma distribuição binomial. Seja $X$ a variável aleatória que determina de 6 encomendas enviadas o número de encomendas que chegam no prazo de dois dias a partir do momento de sua entrega. Então $X$ possui os parâmetros:\n",
    "\n",
    "- n=6 (# tentativas),\n",
    "- p=0.95 (probabilidade de sucesso).\n",
    "\n",
    "a) Devemos determinar P(X=6)\n",
    "\n",
    "b) Devemos calcular P(X=5)\n",
    "\n",
    "c) Calcular o valor esperado $E(X)=np$\n",
    "\n",
    "d) Devemos calcular $V(X)=n * p * (1 - p)$ e $\\sqrt{V(X)}=\\sqrt{n * p * (1 - p)}$\n",
    "\n",
    "e) Ilustrar a distribuição de probabilidade para $X$ em um gráfico de barras."
   ]
  },
  {
   "cell_type": "code",
   "execution_count": 6,
   "id": "7977aaec",
   "metadata": {
    "colab": {
     "base_uri": "https://localhost:8080/",
     "height": 559
    },
    "executionInfo": {
     "elapsed": 709,
     "status": "ok",
     "timestamp": 1726094109683,
     "user": {
      "displayName": "Samuel Junior",
      "userId": "06048015310716032839"
     },
     "user_tz": 180
    },
    "id": "7977aaec",
    "outputId": "fc721824-f044-4a00-a202-95436ebcd47b"
   },
   "outputs": [
    {
     "name": "stdout",
     "output_type": "stream",
     "text": [
      "Probabilidade de que as seis encomendas cheguem em um prazo de dois dias: 0.7351\n",
      "Probabilidade de que exatamente cinco encomendas cheguem em um prazo de dois dias: 0.2321\n",
      "Média do número de encomendas que chegam em um prazo de dois dias: 5.70\n",
      "Variância: 0.29\n",
      "Desvio padrão: 0.53\n"
     ]
    },
    {
     "data": {
      "image/png": "[encoded data removed]",
      "text/plain": [
       "<Figure size 640x480 with 1 Axes>"
      ]
     },
     "metadata": {},
     "output_type": "display_data"
    }
   ],
   "source": [
    "# Parâmetros da distribuição binomial\n",
    "n = 6  # número de encomendas\n",
    "p = 0.95  # probabilidade de que uma encomenda chegue em dois dias\n",
    "\n",
    "# a) Qual é a probabilidade de que as 6 encomendas cheguem dentro do prazo de 2 dias?\n",
    "prob_seis = stats.binom.pmf(6, n, p)\n",
    "print(f\"Probabilidade de que as seis encomendas cheguem em um prazo de dois dias: {prob_seis:.4f}\")\n",
    "# b) Qual é a probabilidade de que exatamente cinco encomendas cheguem dentro de um prazo de 2 dias?\n",
    "prob_cinco = stats.binom.pmf(5, n, p)\n",
    "print(f\"Probabilidade de que exatamente cinco encomendas cheguem em um prazo de dois dias: {prob_cinco:.4f}\")\n",
    "\n",
    "# c) Determine a média do número de encomendas que chegam dentro do prazo de 2 dias.\n",
    "media = n * p\n",
    "print(f\"Média do número de encomendas que chegam em um prazo de dois dias: {media:.2f}\")\n",
    "\n",
    "# d) Calcule a variância e seu desvio padrão do número de encomendas que chegam dentro de um prazo de dois dias.\n",
    "var = n * p * (1 - p)\n",
    "desv_pad = var ** 0.5\n",
    "print(f\"Variância: {var:.2f}\")\n",
    "print(f\"Desvio padrão: {desv_pad:.2f}\")\n",
    "\n",
    "#e) ##  Mostrar a distribuição em um gráfico.\n",
    "\n",
    "# Valores possíveis da variável aleatória\n",
    "x = np.arange(0, n + 1)\n",
    "\n",
    "# Probabilidades correspondentes a cada valor de X\n",
    "probabilidades = stats.binom.pmf(x, n, p)\n",
    "\n",
    "# Criar gráfico de barras\n",
    "plt.bar(x, probabilidades, color='skyblue', alpha=0.7, edgecolor='blue')\n",
    "plt.xlabel('Número de encomendas entregues em dois dias')\n",
    "plt.ylabel('Probabilidade')\n",
    "plt.title('Distribuição Binomial: Entrega de Encomenda em Dois Dias')\n",
    "plt.xticks(x)\n",
    "plt.grid(axis='y')\n",
    "\n",
    "plt.show()\n"
   ]
  },
  {
   "cell_type": "markdown",
   "id": "81a98954",
   "metadata": {
    "id": "81a98954"
   },
   "source": [
    "## Distribuição de Poisson\n",
    "\n",
    "A distribuição de Poisson é utilizada para calcular probabilidades associadas a eventos em um fluxo constante de espaço ou tempo, como\n",
    "\n",
    "- Imperfeições em um tecido,\n",
    "- erros nas páginas de um livro,\n",
    "- chamadas telefônicas recebidas em um intervalo de tempo,\n",
    "- a quantidade de pessoas que formam fila em um balcão de atendimento.\n",
    "\n",
    "Se $X$ é uma variável aleatória cuja distribuição é dada por uma distribuição de Poisson, sua função de massa de probabilidade (FMP) é:\n",
    "\n",
    "   $$P(X = k) = \\frac{\\lambda^k e^{-\\lambda}}{k!}$$\n",
    "\n",
    "Se $X$ é uma variável aleatória de Poisson então $E(X)=\\lambda$\n",
    "\t  \n"
   ]
  },
  {
   "cell_type": "markdown",
   "id": "400e9d53",
   "metadata": {
    "id": "400e9d53"
   },
   "source": [
    "### Exemplo:\n",
    "\n",
    "Devido aos conhecimentos de estatística, você foi contratado por uma empresa de tecnologia que te pediu para modelas a chegada de pessoas em uma sala de urgências. Sabe-se por registros históricos que cinco é a média de pessoas que chegam por hora.\n",
    "\n",
    "Determinar:\n",
    "\n",
    "1. **Probabilidade de que ocorram exatamente quatro chegadas durante uma hora em particular:**\n",
    "\n",
    "2. **Probabilidade de que ao menos quatro pessoas cheguem durante uma hora em particular:**\n",
    "\n",
    "3. **Número esperado de pessoas que cheguem durante um intervalo de 45 minutos:**\n",
    "\n",
    "#### Solução:\n",
    "\n",
    "Definimos a variável aleatória $X$ que determina o número de pacientes que chegam em uma sala de urgência por hora. Neste caso, podemos modelar $X$ utilizando uma distribuição de Poisson (que é indicado para modelar eventos que ocorrem de maneira aleatória e independentes em uma taxa constante). O parâmetro $\\lambda$ representa a taxa média de eventos por unidade de tempo.\n",
    "\n",
    "Então  $\\lambda = 5$.\n",
    "\n",
    "\n",
    "1. **Probabilidade de que ocorram exatamente quatro chegadas durante uma hora em particular:**\n",
    "\n",
    "   Utilizamos a função de massa de probabilidade (PMF) da distribuição de Poisson:\n",
    "\n",
    "   $$P(X = k) = \\frac{\\lambda^k e^{-\\lambda}}{k!}$$\n",
    "\n",
    "Substituindo o valor de $k = 4$ obtemos:\n",
    "\n",
    "\n",
    "$P(X=4)=\\frac{5^4e^{-5}}{4!}=0.17$\n",
    "\n",
    "\n",
    "2. **Probabilidade de que ao menos quatro pessoas cheguem durante uma hora em particular:**\n",
    "\n",
    "A maneira adequada de se realizar o cálculo é por complementação:\n",
    "\n",
    " $P(X \\geq 4)$\n",
    "\n",
    " $= 1 - P(X < 4)$\n",
    "\n",
    " $=  1-( P(X = 0) + P(X = 1) + P(X = 2) + P(X = 3))$\n",
    "   \n",
    " $=0.735$\n",
    "\n",
    "3. **Número esperado de pessoas que cheguem durante um intervalo de 45 minutos**\n",
    "\n",
    "As chegadas ocorrem em uma taxa de 5 por hora. Equivalentemente, 5 por 60 minutos. Então, a taxa de chegadas em 45 minutos é encontrada por meio de uma proporção, obtendo\n",
    "\n",
    "$$   \\lambda_{\\text{45 min}} = \\lambda \\times \\frac{45}{60} = 5 \\times \\frac{3}{4} = 3.75$$\n",
    "  \n"
   ]
  },
  {
   "cell_type": "code",
   "execution_count": 7,
   "id": "2c8427dd",
   "metadata": {
    "id": "2c8427dd",
    "outputId": "189ac79b-85ae-4e3e-df90-ddb0745f49f6"
   },
   "outputs": [
    {
     "name": "stdout",
     "output_type": "stream",
     "text": [
      " Probabilidade de que ocorram 4 chegadas é,  P(X=4)=: 0.18\n",
      " P(X>=4)= 0.73\n"
     ]
    }
   ],
   "source": [
    "### Cálculos  Python\n",
    "#poisson de stats:\n",
    "from scipy.stats import poisson\n",
    "\n",
    "#1)\n",
    "#P(X=4)\n",
    "prob_X_equal_4=poisson.pmf(k=4,mu=5)\n",
    "print(f' Probabilidade de que ocorram 4 chegadas é,  P(X=4)=:{prob_X_equal_4: .2f}')\n",
    "\n",
    "\n",
    "#2) P(X>=4)= 1−𝑃(𝑋<4)\n",
    "prob_X_greater_than_4 = 1- poisson.cdf(k=3,mu=5)\n",
    "print(f' P(X>=4)={prob_X_greater_than_4: .2f}')\n"
   ]
  },
  {
   "cell_type": "markdown",
   "id": "e029aa2a",
   "metadata": {
    "id": "e029aa2a"
   },
   "source": [
    "## Outros exemplos:"
   ]
  },
  {
   "cell_type": "markdown",
   "id": "9e226744",
   "metadata": {
    "id": "9e226744"
   },
   "source": [
    "### Exemplo: (Binomial)\n",
    "\n",
    "Uma prova de múltipla escolha contêm 20 perguntas, é dada 5 opções a cada pergunta, somente 1 é correta. Se um estudante responde aleatoriamente, calcular a probabilidade de que:\n",
    "\n",
    "- 10 respostas estão corretas\n",
    "- Ao menos 3 respostas estejam corretas\n",
    "- Entre 2 e 9 estão corretas\n",
    "\n",
    "\n",
    "#### Solução:\n",
    "\n",
    "Seja $X=$ o número de respostas corretas que responde o estudante aleatoriamente. Então $X$ possui uma distribuição binomial com parâmetros $n=20$ e $p= 1/5=0.2$\n",
    "\n",
    "- $P(X=10)=0.002$\n",
    "- $P(X\\geq 3)=0.7939$\n",
    "- $P(2\\leq X\\leq 9)=0.9279$\n"
   ]
  },
  {
   "cell_type": "code",
   "execution_count": 8,
   "id": "c31fa0a2",
   "metadata": {
    "id": "c31fa0a2",
    "outputId": "f77121df-a8bf-4992-fe33-73aa70436a6c"
   },
   "outputs": [
    {
     "name": "stdout",
     "output_type": "stream",
     "text": [
      "Probabilidade 10 corretas: 0.00203\n",
      "Probabilidade de ao menos 3: 0.7939\n",
      "Probabilidade entre 2 e 9: 0.9282\n"
     ]
    },
    {
     "data": {
      "image/png": "[encoded data removed]",
      "text/plain": [
       "<Figure size 640x480 with 1 Axes>"
      ]
     },
     "metadata": {},
     "output_type": "display_data"
    }
   ],
   "source": [
    "# Parâmetros da distribuição binomial\n",
    "n = 20\n",
    "p = 0.2\n",
    "\n",
    "# 10 respostas corretas\n",
    "prob_dez = stats.binom.pmf(10, n, p)\n",
    "print(f\"Probabilidade 10 corretas: {prob_dez:.5f}\")\n",
    "\n",
    "# Ao menos 3\n",
    "prob_menos3 = 1 - stats.binom.cdf(2, n, p)\n",
    "print(f\"Probabilidade de ao menos 3: {prob_menos3:.4f}\")\n",
    "\n",
    "# Entre 2 e 9\n",
    "prob_2_e_9 = stats.binom.cdf(9, n, p) - stats.binom.cdf(1, n, p)\n",
    "\n",
    "print(f\"Probabilidade entre 2 e 9: {prob_2_e_9:.4f}\")\n",
    "\n",
    "\n",
    "#  Mostrar a distribuição em um gráfico.\n",
    "\n",
    "# Valores possíveis da variável aleatória\n",
    "x = np.arange(0, n + 1)\n",
    "\n",
    "# Probabilidades correspondentes a cada valor de X\n",
    "probabilidades = stats.binom.pmf(x, n, p)\n",
    "\n",
    "# Criar gráfico de barras\n",
    "plt.bar(x, probabilidades, color='skyblue', alpha=0.7, edgecolor='blue')\n",
    "plt.xlabel('Número de acertos')\n",
    "plt.ylabel('Probabilidade')\n",
    "plt.title('Distribuição Binomial')\n",
    "plt.xticks(x)\n",
    "plt.grid(axis='y')\n",
    "\n",
    "plt.show()\n"
   ]
  },
  {
   "cell_type": "code",
   "execution_count": null,
   "id": "6d51a081-1a7b-4a7a-827d-c6d5f30eb36d",
   "metadata": {
    "id": "6d51a081-1a7b-4a7a-827d-c6d5f30eb36d"
   },
   "outputs": [],
   "source": []
  }
 ],
 "metadata": {
  "colab": {
   "provenance": []
  },
  "kernelspec": {
   "display_name": "Python 3",
   "language": "python",
   "name": "python3"
  },
  "language_info": {
   "codemirror_mode": {
    "name": "ipython",
    "version": 3
   },
   "file_extension": ".py",
   "mimetype": "text/x-python",
   "name": "python",
   "nbconvert_exporter": "python",
   "pygments_lexer": "ipython3",
   "version": "3.12.10"
  }
 },
 "nbformat": 4,
 "nbformat_minor": 5
}
