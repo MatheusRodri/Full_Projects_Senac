{
 "cells": [
  {
   "cell_type": "markdown",
   "id": "c1ef1b3c-96a2-497b-bef0-53b876191a0a",
   "metadata": {
    "id": "c1ef1b3c-96a2-497b-bef0-53b876191a0a"
   },
   "source": [
    "\n",
    "# Inferência Estatística\n",
    "\n",
    "## Intervalo de Confiança\n",
    "\n",
    "\n",
    "O intervalo de confiança é um conceito fundamental na estatística inferencial, usado para estimar a incerteza em torno de uma medida de interesse calculada a partir de uma amostra de dados. Ele oferece uma faixa de valores dentro da qual podemos afirmar, com um certo nível de confiança, que o parâmetro populacional verdadeiro está localizado.\n",
    "\n",
    "Quando realizamos uma pesquisa ou um experimento, geralmente lidamos com uma amostra da população, e não com a população inteira. Por exemplo, se queremos saber a altura média dos estudantes em uma escola, é mais prático medir a altura de um grupo aleatório de estudantes (amostra) do que de todos os estudantes (população). A partir dessa amostra, calculamos uma estimativa pontual, como a média amostral. No entanto, essa estimativa pontual é apenas uma aproximação do valor verdadeiro da população. Para expressar a precisão dessa estimativa, utilizamos o intervalo de confiança.\n",
    "\n",
    "O que nos dá 3 componentes:\n",
    "\n",
    "**Estimativa Pontual**: É o valor calculado a partir da amostra, como a média ou a proporção amostral ou desvio padrão.\n",
    "\n",
    "\n",
    "**Margem de erro**: É o valor que determina a amplitude do intervalo de confiança em torno da estimativa pontual. A margem de erro depende da variabilidade dos dados, do tamanho da amostra e do nível de confiança desejado\n",
    "\n",
    "**Nível de confiança**: É a probabilidade de que o intervalo de confiança contenha o verdadeiro parâmetro populacional. Comummente utilizado em 90%, 95% ou 99%, o nível de confiança representa a frequência com que intervalos calculados da mesma forma conterão o parâmetro verdadeiro se repetirmos a amostragem várias vezes.\n",
    "\n",
    "\n",
    "\n",
    "Dizer que temos um intervalo de confiança de 95% significa que, se repetirmos o processo de amostragem e construção do intervalo inúmeras vezes, cerca de 95% desses intervalos conterão a verdadeira média. Não significa que há 95% de probabilidade de o intervalo específico conter a média verdadeira, mas sim que o método que usamos para calcular esse intervalo tem uma taxa de sucesso de 95%.\n",
    "\n",
    "\n",
    "\n",
    "---\n",
    "\n",
    "### Teste de Hipótese\n",
    "\n",
    "O teste de hipótese é um procedimento estatístico usado para tomar decisões sobre uma população com base em amostras de dados. É uma técnica essencial na inferência estatística, permitindo que os pesquisadores determinem se os dados fornecem evidências suficientes para suportar ou rejeitar uma suposição sobre um parâmetro populacional.\n",
    "\n",
    "#### Conceitos Fundamentais\n",
    "\n",
    "1. **Hipótese Nula (H₀)**: É a hipótese inicial que se assume ser verdadeira até que se obtenham evidências contrárias. Geralmente, representa um status quo ou uma posição de \"não efeito\" ou \"não diferença\".\n",
    "   \n",
    "2. **Hipótese Alternativa (H₁ ou Ha)**: É a hipótese que se deseja testar. Ela representa uma nova afirmação ou a existência de um efeito ou diferença.\n",
    "\n",
    "#### Etapas do Teste de Hipótese\n",
    "\n",
    "1. **Formulação das Hipóteses**:\n",
    "   - **H₀**: A média da população é igual a um valor específico (por exemplo, H₀: μ = μ₀).\n",
    "   - **H₁**: A média da população é diferente do valor específico (por exemplo, H₁: μ ≠ μ₀).\n",
    "\n",
    "2. **Escolha do Nível de Significância (α)**:\n",
    "   - O nível de significância, geralmente 0,05, é a probabilidade de rejeitar a hipótese nula quando ela é verdadeira. Ele define a tolerância para o erro tipo I.\n",
    "\n",
    "3. **Seleção da Estatística de Teste**:\n",
    "   - A escolha da estatística de teste depende da natureza dos dados e do tipo de teste. Pode ser um teste z, teste t, teste qui-quadrado, etc.\n",
    "\n",
    "4. **Determinação da Região Crítica**:\n",
    "   - Com base no nível de significância e na distribuição da estatística de teste, determina-se a região crítica, onde, se a estatística de teste cair, rejeitaremos H₀.\n",
    "\n",
    "5. **Cálculo da Estatística de Teste**:\n",
    "   - A estatística de teste é calculada a partir dos dados amosmpais. Para um teste z, por exemlo, pode ser calculada como $z = \\frac{\\bar{x} - \\mu₀}{\\sigma \\sqrt{n}}$, onde $\\bar{x} $ é a média amostral, $ \\mu₀ $ é a média hipotética da população, $ \\sigma $ é o desvio padrão da população e $ n $ é o tamanho da amostra.\n",
    "\n",
    "6. **Tomada de Decisão**:\n",
    "   - Compara-se a estatística de teste calculada com o valor crítico ou utiliza-se o valor p. Se a estatística de teste cair na região crítica ou se o valor p for menor queitamos H₀.\n",
    "\n",
    "#### Exemplo Prático\n",
    "\n",
    "Suponha que um fabricante de lâmpadas afirme que a vida útil média das suas lâmpadas é de 1000 horas. Um pesquisador deseja testar essa afirmação e coleta uma amostra de 50 lâmpadas, encontrando uma vida útil média de 980 horas com um desvio padrão de 60 horas.\n",
    "\n",
    "1. **Formulação das Hipóteses**:\n",
    "   - H₀: μ = 1000 horas\n",
    "   - H₁: μ ≠ 1000 horas\n",
    "\n",
    "2. **Nível de Significância**:\n",
    "   - α = 0,05\n",
    "\n",
    "3.atístist de Teste**:\n",
    "   - Como o tamanho da amostra é grande (n > 30), usamos o teste z.\n",
    "   - $ z = \\frac{\\bar{x} - \\mu₀}{\\sigma / \\sqrt{n}} =\\frac{980 - 1000}{60 / \\sqrt{50}} \\approx -2,36 $\n",
    "\n",
    "4. **Região Crítica**:\n",
    "   - Para α = 0,05 em um teste bicaudal, os valores críticos são aproximadamente ±1,96.\n",
    "\n",
    "5. **Decisão**:\n",
    "   - Como -2,36 está fora do intervalo de -1,96 a 1,96, rejeitamos H₀.\n",
    "\n",
    "6. **Conclusão**:\n",
    "   - Há evidências suficientes para rejeitar a hipótese nula de que a vida útil média das lâmpadas é de 1000 horas.\n",
    "\n",
    "#### Tipos de Erros\n",
    "\n",
    "- **Erro Tipo I (α)**: Rejeitar a hipótese nula quando ela é verdadeira."
   ]
  },
  {
   "cell_type": "code",
   "execution_count": 1,
   "id": "46864ee7-b17e-4dfd-a223-782a43f41694",
   "metadata": {
    "executionInfo": {
     "elapsed": 2139,
     "status": "ok",
     "timestamp": 1729205623326,
     "user": {
      "displayName": "Samuel Junior",
      "userId": "06048015310716032839"
     },
     "user_tz": 180
    },
    "id": "46864ee7-b17e-4dfd-a223-782a43f41694"
   },
   "outputs": [],
   "source": [
    "from scipy import stats\n",
    "import numpy as np\n",
    "import matplotlib.pyplot as plt"
   ]
  },
  {
   "cell_type": "markdown",
   "id": "fab39533-9971-4478-b2a4-6ec62cbba1de",
   "metadata": {
    "id": "fab39533-9971-4478-b2a4-6ec62cbba1de"
   },
   "source": [
    "# Intervalo de Confiança\n",
    "\n",
    "Qual utilizar?\n",
    "\n",
    "Estatística z: média e n > 30\n",
    "\n",
    "Estatística t: média e n < 30\n",
    "\n",
    "Estatística Chi quadrado: desvio padrão n < 30\n",
    "\n",
    "Estatística z: desvio padrão n > 30\n",
    "\n",
    "Proporção: binomial e n < 30\n",
    "\n",
    "Proporção: Estatística z  e n > 30\n",
    "\n",
    "O bootstrap é uma técnica de reamostragem que pode ser usada para construir intervalos de confiança. O intervalo de confiança é um intervalo numérico associado a uma probabilidade, que representa a confiança de que o intervalo contém um parâmetro populacional, como a média ou o desvio-padrão. O bootstrap é útil em situações em que outras técnicas não são aplicáveis, como quando o tamanho das amostras é reduzido.\n"
   ]
  },
  {
   "cell_type": "code",
   "execution_count": 2,
   "id": "e8e5f9fa-26f4-44db-b57b-c2d682d7d6e0",
   "metadata": {
    "colab": {
     "base_uri": "https://localhost:8080/"
    },
    "executionInfo": {
     "elapsed": 6036,
     "status": "ok",
     "timestamp": 1729205881360,
     "user": {
      "displayName": "Samuel Junior",
      "userId": "06048015310716032839"
     },
     "user_tz": 180
    },
    "id": "e8e5f9fa-26f4-44db-b57b-c2d682d7d6e0",
    "outputId": "4e08b002-c970-4e7a-c209-ce0614e56254"
   },
   "outputs": [
    {
     "name": "stdout",
     "output_type": "stream",
     "text": [
      "Sugestão: Use a fórmula do intervalo de confiança para a média (T-distribuição)\n"
     ]
    }
   ],
   "source": [
    "def get_test_suggestion():\n",
    "    # Perguntas interativas\n",
    "    data_type = input(\"Os seus dados são numéricos (1) ou categóricos (2)? Digite 1 ou 2: \")\n",
    "\n",
    "    if data_type == '1':\n",
    "        num_samples = input(\"Você tem uma amostra (1) ou duas amostras (2)? Digite 1 ou 2: \")\n",
    "        normality = input(\"Os seus dados seguem uma distribuição normal? (sim/não): \").strip().lower()\n",
    "        sample_size = int(input(\"Qual é o tamanho da sua amostra (ou da menor amostra se forem duas)? \"))\n",
    "\n",
    "        if num_samples == '1':\n",
    "            if normality == 'sim' and sample_size > 30:\n",
    "                return 'Use a fórmula do intervalo de confiança para a média (Z-distribuição)'\n",
    "            elif normality == 'sim' and sample_size <= 30:\n",
    "                return 'Use a fórmula do intervalo de confiança para a média (T-distribuição)'\n",
    "            else:\n",
    "                return 'Use o intervalo de confiança bootstrap'\n",
    "        elif num_samples == '2':\n",
    "            paired = input(\"As amostras são pareadas (dois dados que tem que estar juntos)? (sim/não): \").strip().lower()\n",
    "            if paired == 'sim':\n",
    "                if normality == 'sim' and sample_size > 30:\n",
    "                    return 'Use o intervalo de confiança para a diferença de médias pareadas (Z-distribuição)'\n",
    "                elif normality == 'sim' and sample_size <= 30:\n",
    "                    return 'Use o intervalo de confiança para a diferença de médias pareadas (T-distribuição)'\n",
    "                else:\n",
    "                    return 'Use o intervalo de confiança bootstrap para médias pareadas'\n",
    "            else:\n",
    "                if normality == 'sim' and sample_size > 30:\n",
    "                    return 'Use o intervalo de confiança para a diferença de médias independentes (Z-distribuição)'\n",
    "                elif normality == 'sim' and sample_size <= 30:\n",
    "                    return 'Use o intervalo de confiança para a diferença de médias independentes (T-distribuição)'\n",
    "                else:\n",
    "                    return 'Use o intervalo de confiança bootstrap para médias independentes'\n",
    "    elif data_type == '2':\n",
    "        num_samples = input(\"Você tem uma amostra (1) ou duas amostras (2)? Digite 1 ou 2: \")\n",
    "        if num_samples == '1':\n",
    "            return 'Use o intervalo de confiança para proporções (Z-distribuição)'\n",
    "        elif num_samples == '2':\n",
    "            return 'Use o intervalo de confiança para a diferença de proporções (Z-distribuição)'\n",
    "\n",
    "# Chamada da função para sugerir o teste\n",
    "suggestion = get_test_suggestion()\n",
    "print(f\"Sugestão: {suggestion}\")"
   ]
  },
  {
   "cell_type": "code",
   "execution_count": 3,
   "id": "a24e3ced-ac6d-43be-94d3-c72fd4501b76",
   "metadata": {
    "colab": {
     "base_uri": "https://localhost:8080/"
    },
    "executionInfo": {
     "elapsed": 285,
     "status": "ok",
     "timestamp": 1729206123599,
     "user": {
      "displayName": "Samuel Junior",
      "userId": "06048015310716032839"
     },
     "user_tz": 180
    },
    "id": "a24e3ced-ac6d-43be-94d3-c72fd4501b76",
    "outputId": "25dcf54e-3c0e-420d-c623-6f7744c1e323"
   },
   "outputs": [
    {
     "name": "stdout",
     "output_type": "stream",
     "text": [
      "Intervalo de Confiança para a Média (95%): (np.float64(95.75029128874655), np.float64(105.00358544843516))\n"
     ]
    }
   ],
   "source": [
    "#Intervalo para média de 1 amostra\n",
    "\n",
    "# Dados da amostra\n",
    "data = np.random.normal(loc=100, scale=15, size=50)  # Exemplo: amostra de tamanho 50, média 100, desvio padrão 15\n",
    "\n",
    "# Calculando o intervalo de confiança para a média\n",
    "confidence_level = 0.95\n",
    "mean, sigma = np.mean(data), np.std(data)\n",
    "n = len(data)\n",
    "z = stats.norm.ppf((1 + confidence_level) / 2)\n",
    "margin_of_error = z * (sigma / np.sqrt(n))\n",
    "\n",
    "lower_bound = mean - margin_of_error\n",
    "upper_bound = mean + margin_of_error\n",
    "\n",
    "print(\"Intervalo de Confiança para a Média (95%):\", (lower_bound, upper_bound))"
   ]
  },
  {
   "cell_type": "code",
   "execution_count": 4,
   "id": "8da0a1c7-1633-4e65-b629-013958490816",
   "metadata": {
    "colab": {
     "base_uri": "https://localhost:8080/"
    },
    "executionInfo": {
     "elapsed": 313,
     "status": "ok",
     "timestamp": 1729119850477,
     "user": {
      "displayName": "Samuel Junior",
      "userId": "06048015310716032839"
     },
     "user_tz": 180
    },
    "id": "8da0a1c7-1633-4e65-b629-013958490816",
    "outputId": "8d89e9ab-fff8-45cf-f1fa-f5e1581e668d"
   },
   "outputs": [
    {
     "name": "stdout",
     "output_type": "stream",
     "text": [
      "Intervalo de Confiança para a Diferença entre as Médias (95%): (np.float64(-17.581466270175675), np.float64(-1.1826845757998345))\n"
     ]
    }
   ],
   "source": [
    "# Intervalo para média com 2 amostras\n",
    "\n",
    "# Dados das duas amostras\n",
    "data1 = np.random.normal(loc=100, scale=15, size=30)  # Exemplo: amostra A de tamanho 30, média 100, desvio padrão 15\n",
    "data2 = np.random.normal(loc=110, scale=18, size=30)  # Exemplo: amostra B de tamanho 30, média 110, desvio padrão 18\n",
    "\n",
    "# Calculando o intervalo de confiança para a diferença entre as médias\n",
    "confidence_level = 0.95\n",
    "mean_diff = np.mean(data1) - np.mean(data2)\n",
    "s1, s2 = np.std(data1), np.std(data2)\n",
    "n1, n2 = len(data1), len(data2)\n",
    "std_err_diff = np.sqrt((s1 ** 2 / n1) + (s2 ** 2 / n2))\n",
    "z = stats.norm.ppf((1 + confidence_level) / 2)\n",
    "margin_of_error = z * std_err_diff\n",
    "\n",
    "lower_bound = mean_diff - margin_of_error\n",
    "upper_bound = mean_diff + margin_of_error\n",
    "\n",
    "print(\"Intervalo de Confiança para a Diferença entre as Médias (95%):\", (lower_bound, upper_bound))"
   ]
  },
  {
   "cell_type": "code",
   "execution_count": 5,
   "id": "0d319776-f8c3-4622-b7c3-1f4f4beb018c",
   "metadata": {
    "colab": {
     "base_uri": "https://localhost:8080/"
    },
    "executionInfo": {
     "elapsed": 254,
     "status": "ok",
     "timestamp": 1729206343828,
     "user": {
      "displayName": "Samuel Junior",
      "userId": "06048015310716032839"
     },
     "user_tz": 180
    },
    "id": "0d319776-f8c3-4622-b7c3-1f4f4beb018c",
    "outputId": "03301ff6-8bd8-435a-851f-3befe780b7c7"
   },
   "outputs": [
    {
     "name": "stdout",
     "output_type": "stream",
     "text": [
      "Intervalo de Confiança para a Proporção (95%): (np.float64(0.46321995477099426), np.float64(0.5367800452290057))\n"
     ]
    }
   ],
   "source": [
    "#Intervalo para proporções 1 amostra\n",
    "\n",
    "# Dados da amostra\n",
    "n = 500  # Tamanho da amostra\n",
    "p_hat = 0.5  # Proporção amostral\n",
    "z = stats.norm.ppf(0.95)  # Z-score para um intervalo de confiança de 95%\n",
    "margin_of_error = z * np.sqrt((p_hat * (1 - p_hat)) / n)\n",
    "\n",
    "lower_bound = p_hat - margin_of_error\n",
    "upper_bound = p_hat + margin_of_error\n",
    "\n",
    "print(\"Intervalo de Confiança para a Proporção (95%):\", (lower_bound, upper_bound))"
   ]
  },
  {
   "cell_type": "code",
   "execution_count": 6,
   "id": "814f45c7-5de8-44fc-a791-9d8539e7782e",
   "metadata": {
    "colab": {
     "base_uri": "https://localhost:8080/"
    },
    "executionInfo": {
     "elapsed": 272,
     "status": "ok",
     "timestamp": 1729206369841,
     "user": {
      "displayName": "Samuel Junior",
      "userId": "06048015310716032839"
     },
     "user_tz": 180
    },
    "id": "814f45c7-5de8-44fc-a791-9d8539e7782e",
    "outputId": "80e799df-b26e-47ea-f92a-d6132568ea2d"
   },
   "outputs": [
    {
     "name": "stdout",
     "output_type": "stream",
     "text": [
      "Intervalo de Confiança para a Diferença entre as Proporções (95%): (np.float64(-0.0013605380398515124), np.float64(0.10136053803985137))\n"
     ]
    }
   ],
   "source": [
    "#Intervalo para proporções 2 amostras\n",
    "\n",
    "# Dados das duas amostras\n",
    "n1 = 500  # Tamanho da amostra 1\n",
    "n2 = 500  # Tamanho da amostra 2\n",
    "p1_hat = 0.6  # Proporção amostral 1\n",
    "p2_hat = 0.55  # Proporção amostral 2\n",
    "p_diff = p1_hat - p2_hat\n",
    "z = stats.norm.ppf(0.95)  # Z-score para um intervalo de confiança de 95%\n",
    "margin_of_error = z * np.sqrt((p1_hat * (1 - p1_hat) / n1) + (p2_hat * (1 - p2_hat) / n2))\n",
    "\n",
    "lower_bound = p_diff - margin_of_error\n",
    "upper_bound = p_diff + margin_of_error\n",
    "\n",
    "print(\"Intervalo de Confiança para a Diferença entre as Proporções (95%):\", (lower_bound, upper_bound))"
   ]
  },
  {
   "cell_type": "code",
   "execution_count": 7,
   "id": "86bc837a-894f-4c5e-a6c5-be927cc62c3c",
   "metadata": {
    "colab": {
     "base_uri": "https://localhost:8080/"
    },
    "executionInfo": {
     "elapsed": 259,
     "status": "ok",
     "timestamp": 1729206534080,
     "user": {
      "displayName": "Samuel Junior",
      "userId": "06048015310716032839"
     },
     "user_tz": 180
    },
    "id": "86bc837a-894f-4c5e-a6c5-be927cc62c3c",
    "outputId": "c9bbac00-f0a4-41c0-bebd-de504ec87980"
   },
   "outputs": [
    {
     "name": "stdout",
     "output_type": "stream",
     "text": [
      "Intervalo de Confiança para a Média (95%) utilizando t: (np.float64(72.06474056016413), np.float64(104.59296734962854))\n",
      "Intervalo de Confiança para a Média (95%) utilizando z: (np.float64(76.84759814527368), np.float64(99.81010976451898))\n"
     ]
    }
   ],
   "source": [
    "#Estatística t para média\n",
    "\n",
    "# Dados da amostra\n",
    "data = np.random.normal(loc=100, scale=15, size=5)  # Exemplo: amostra de tamanho 30, média 100, desvio padrão 15\n",
    "\n",
    "# Calculando o intervalo de confiança para a média\n",
    "confidence_level = 0.95\n",
    "mean, sigma = np.mean(data), np.std(data)\n",
    "n = len(data)\n",
    "t = stats.t.ppf((1 + confidence_level) / 2, df=n-1)  # valor crítico da distribuição t\n",
    "margin_of_error = t * (sigma / np.sqrt(n))\n",
    "\n",
    "lower_bound = mean - margin_of_error\n",
    "upper_bound = mean + margin_of_error\n",
    "\n",
    "print(\"Intervalo de Confiança para a Média (95%) utilizando t:\", (lower_bound, upper_bound))\n",
    "\n",
    "\n",
    "n = len(data)\n",
    "z = stats.norm.ppf((1 + confidence_level) / 2)\n",
    "margin_of_error = z * (sigma / np.sqrt(n))\n",
    "\n",
    "lower_bound = mean - margin_of_error\n",
    "upper_bound = mean + margin_of_error\n",
    "\n",
    "print(\"Intervalo de Confiança para a Média (95%) utilizando z:\", (lower_bound, upper_bound))"
   ]
  },
  {
   "cell_type": "code",
   "execution_count": 8,
   "id": "8d6d716f-bd63-45c4-9d84-76013e009f77",
   "metadata": {
    "colab": {
     "base_uri": "https://localhost:8080/"
    },
    "executionInfo": {
     "elapsed": 288,
     "status": "ok",
     "timestamp": 1729120255569,
     "user": {
      "displayName": "Samuel Junior",
      "userId": "06048015310716032839"
     },
     "user_tz": 180
    },
    "id": "8d6d716f-bd63-45c4-9d84-76013e009f77",
    "outputId": "774233a4-4ee7-401e-82c1-b5c9d0c95d18"
   },
   "outputs": [
    {
     "name": "stdout",
     "output_type": "stream",
     "text": [
      "Intervalo de Confiança para o Desvio Padrão (95%): (np.float64(11.325415761682383), np.float64(16.895012322573592))\n"
     ]
    }
   ],
   "source": [
    "#Chi quadrado -> desvio padrão\n",
    "\n",
    "# Dados da amostra\n",
    "data = np.random.normal(loc=100, scale=15, size=50)  # Exemplo: amostra de tamanho 50, média 100, desvio padrão 15\n",
    "\n",
    "# Graus de liberdade e valor crítico da distribuição qui-quadrado\n",
    "n = len(data)\n",
    "df = n - 1\n",
    "alpha = 0.05\n",
    "chi2_lower = stats.chi2.ppf(alpha / 2, df)\n",
    "chi2_upper = stats.chi2.ppf(1 - alpha / 2, df)\n",
    "\n",
    "# Calculando os limites do intervalo de confiança para a variância\n",
    "variance = np.var(data)\n",
    "variance_lower = (n - 1) * variance / chi2_upper\n",
    "variance_upper = (n - 1) * variance / chi2_lower\n",
    "\n",
    "# Calculando os limites do intervalo de confiança para o desvio padrão\n",
    "std_dev_lower = np.sqrt(variance_lower)\n",
    "std_dev_upper = np.sqrt(variance_upper)\n",
    "\n",
    "print(\"Intervalo de Confiança para o Desvio Padrão (95%):\", (std_dev_lower, std_dev_upper))"
   ]
  },
  {
   "cell_type": "code",
   "execution_count": 9,
   "id": "8bdca560-599a-4c0e-b9af-6cb3a98eaf8d",
   "metadata": {
    "colab": {
     "base_uri": "https://localhost:8080/"
    },
    "executionInfo": {
     "elapsed": 15,
     "status": "ok",
     "timestamp": 1724273978570,
     "user": {
      "displayName": "Samuel Junior",
      "userId": "06048015310716032839"
     },
     "user_tz": 180
    },
    "id": "8bdca560-599a-4c0e-b9af-6cb3a98eaf8d",
    "outputId": "b35fcdf9-cb26-4b87-840e-0e72ae414ff6"
   },
   "outputs": [
    {
     "data": {
      "text/plain": [
       "0.6"
      ]
     },
     "execution_count": 9,
     "metadata": {},
     "output_type": "execute_result"
    }
   ],
   "source": [
    "600/1000"
   ]
  },
  {
   "cell_type": "code",
   "execution_count": 10,
   "id": "4156bc4e-aea8-4fd9-ac9f-eba3dfde8d34",
   "metadata": {
    "colab": {
     "base_uri": "https://localhost:8080/"
    },
    "executionInfo": {
     "elapsed": 14,
     "status": "ok",
     "timestamp": 1724273978570,
     "user": {
      "displayName": "Samuel Junior",
      "userId": "06048015310716032839"
     },
     "user_tz": 180
    },
    "id": "4156bc4e-aea8-4fd9-ac9f-eba3dfde8d34",
    "outputId": "50482f27-0727-401c-f45b-3b1b34fdf3c6"
   },
   "outputs": [
    {
     "name": "stdout",
     "output_type": "stream",
     "text": [
      "Intervalo de Confiança para a Proporção de Eleitores que Apoiam o Candidato A (95%): (np.float64(0.5745180371834723), np.float64(0.6254819628165277))\n"
     ]
    }
   ],
   "source": [
    "# Dados da amostra\n",
    "n = 1000  # Tamanho da amostra\n",
    "x = 600   # Número de eleitores que apoiam o candidato A\n",
    "\n",
    "# Proporção amostral\n",
    "p_hat = x / n\n",
    "\n",
    "# Calculando o intervalo de confiança para a proporção utilizando a distribuição normal\n",
    "z = stats.norm.ppf(0.95)  # Valor crítico para um intervalo de confiança de 95%\n",
    "margin_of_error = z * np.sqrt((p_hat * (1 - p_hat)) / n)\n",
    "\n",
    "lower_bound = p_hat - margin_of_error\n",
    "upper_bound = p_hat + margin_of_error\n",
    "\n",
    "print(\"Intervalo de Confiança para a Proporção de Eleitores que Apoiam o Candidato A (95%):\", (lower_bound, upper_bound))"
   ]
  },
  {
   "cell_type": "markdown",
   "id": "ffba733a-7b8d-4a01-9407-9ffc40d6187d",
   "metadata": {
    "id": "ffba733a-7b8d-4a01-9407-9ffc40d6187d"
   },
   "source": [
    "# Usando dataset Kaggle\n",
    "\n",
    "https://www.kaggle.com/datasets/heptapod/titanic"
   ]
  },
  {
   "cell_type": "code",
   "execution_count": 11,
   "id": "0949060f-13cb-4697-92fa-3b130ca2326f",
   "metadata": {
    "colab": {
     "base_uri": "https://localhost:8080/"
    },
    "executionInfo": {
     "elapsed": 1950,
     "status": "ok",
     "timestamp": 1729206746659,
     "user": {
      "displayName": "Samuel Junior",
      "userId": "06048015310716032839"
     },
     "user_tz": 180
    },
    "id": "0949060f-13cb-4697-92fa-3b130ca2326f",
    "outputId": "4b913c93-efc0-4754-db86-19d556a57e7a"
   },
   "outputs": [
    {
     "name": "stdout",
     "output_type": "stream",
     "text": [
      "Intervalo de Confiança para a Média da Idade dos Passageiros (95%): (np.float64(28.804344565087142), np.float64(30.202026710695897))\n",
      "Média da Idade dos Passageiros no dataset: 29.50318563789152\n"
     ]
    }
   ],
   "source": [
    "import pandas as pd\n",
    "\n",
    "# Carregar o dataset do Titanic do Kaggle\n",
    "titanic_data = pd.read_csv('./titanic.csv')\n",
    "\n",
    "# Remover linhas com valores ausentes na coluna 'Age'\n",
    "titanic_data = titanic_data.dropna(subset=['Age'])\n",
    "\n",
    "# Calcular o intervalo de confiança para a média da idade dos passageiros\n",
    "confidence_level = 0.95\n",
    "data = titanic_data['Age']\n",
    "mean = np.mean(data)\n",
    "std_dev = np.std(data)\n",
    "n = len(data)\n",
    "margin_of_error = stats.norm.ppf((1 + confidence_level) / 2) * (std_dev / np.sqrt(n))\n",
    "\n",
    "lower_bound = mean - margin_of_error\n",
    "upper_bound = mean + margin_of_error\n",
    "\n",
    "print(\"Intervalo de Confiança para a Média da Idade dos Passageiros (95%):\", (lower_bound, upper_bound))\n",
    "print(\"Média da Idade dos Passageiros no dataset:\", mean)\n"
   ]
  },
  {
   "cell_type": "markdown",
   "id": "7c0dee8a-aa6a-4618-b951-e7f20303e2cb",
   "metadata": {
    "id": "7c0dee8a-aa6a-4618-b951-e7f20303e2cb"
   },
   "source": [
    "# Teste de Hipótese\n",
    "\n",
    "Suponha que uma empresa de fabricação de lâmpadas afirma que a vida útil média das suas lâmpadas é de 1000 horas. Coletamos uma amostra de 50 lâmpadas e encontramos uma vida útil média de 980 horas com um desvio padrão de 60 horas. Queremos testar se a vida útil média é diferente de 1000 horas com um nível de significância de 0,05."
   ]
  },
  {
   "cell_type": "code",
   "execution_count": 12,
   "id": "f7106a7a-109a-48da-8aba-30c6b9766d56",
   "metadata": {
    "colab": {
     "base_uri": "https://localhost:8080/"
    },
    "executionInfo": {
     "elapsed": 307,
     "status": "ok",
     "timestamp": 1729206966738,
     "user": {
      "displayName": "Samuel Junior",
      "userId": "06048015310716032839"
     },
     "user_tz": 180
    },
    "id": "f7106a7a-109a-48da-8aba-30c6b9766d56",
    "outputId": "f3f78b64-a355-48ca-da72-b1a292e6b949"
   },
   "outputs": [
    {
     "name": "stdout",
     "output_type": "stream",
     "text": [
      "Estatística t: -1.7507015729867137\n",
      "Valor p: 0.0862561869823309\n",
      "Não rejeitamos a hipótese nula. Não há evidências suficientes para afirmar que a vida útil média das lâmpadas é diferente de 1000 horas.\n"
     ]
    }
   ],
   "source": [
    "# Dados da amostra\n",
    "n = 50  # tamanho da amostra\n",
    "sample_mean = 980  # média amostral\n",
    "population_mean = 1000  # média populacional hipotética\n",
    "sample_std = 60  # desvio padrão amostral\n",
    "\n",
    "# Calculando a estatística t e o p-valor\n",
    "t_statistic, p_value = stats.ttest_1samp(a=np.random.normal(loc=sample_mean, scale=sample_std, size=n), popmean=population_mean)\n",
    "\n",
    "# Nível de significância\n",
    "alpha = 0.05\n",
    "\n",
    "# Exibindo os resultados\n",
    "print(f\"Estatística t: {t_statistic}\")\n",
    "print(f\"Valor p: {p_value}\")\n",
    "\n",
    "# Decisão do teste\n",
    "if p_value < alpha:\n",
    "    print(\"Rejeitamos a hipótese nula. Há evidências suficientes para afirmar que a vida útil média das lâmpadas é diferente de 1000 horas.\")\n",
    "else:\n",
    "    print(\"Não rejeitamos a hipótese nula. Não há evidências suficientes para afirmar que a vida útil média das lâmpadas é diferente de 1000 horas.\")\n"
   ]
  },
  {
   "cell_type": "code",
   "execution_count": 13,
   "id": "02e182c2-e194-4623-b395-e31b4d4631a8",
   "metadata": {
    "colab": {
     "base_uri": "https://localhost:8080/"
    },
    "executionInfo": {
     "elapsed": 442,
     "status": "ok",
     "timestamp": 1724273980898,
     "user": {
      "displayName": "Samuel Junior",
      "userId": "06048015310716032839"
     },
     "user_tz": 180
    },
    "id": "02e182c2-e194-4623-b395-e31b4d4631a8",
    "outputId": "5bdbe46d-b887-4278-980e-1bdc9b17de89"
   },
   "outputs": [
    {
     "name": "stdout",
     "output_type": "stream",
     "text": [
      "Rejeitar H0: A média é significativamente diferente de 75.\n",
      "Média calculada: 80.5\n"
     ]
    },
    {
     "data": {
      "text/plain": [
       "np.float64(2.5815938261055966)"
      ]
     },
     "execution_count": 13,
     "metadata": {},
     "output_type": "execute_result"
    }
   ],
   "source": [
    "# Dados da amostra (pontuações dos alunos)\n",
    "scores = [80, 85, 78, 90, 70, 82, 75, 88, 72, 85]\n",
    "\n",
    "# Teste de hipótese para a média\n",
    "mean = np.mean(scores)\n",
    "alpha = 0.05\n",
    "t_stat, p_value = stats.ttest_1samp(scores, 75)\n",
    "\n",
    "if p_value < alpha:\n",
    "    print(\"Rejeitar H0: A média é significativamente diferente de 75.\")\n",
    "else:\n",
    "    print(\"Não rejeitar H0: A média não é significativamente diferente de 75.\")\n",
    "\n",
    "print(\"Média calculada:\",mean)\n",
    "t_stat"
   ]
  },
  {
   "cell_type": "code",
   "execution_count": 15,
   "id": "993bded1-9af7-41a0-91ab-f685a026b27b",
   "metadata": {
    "colab": {
     "base_uri": "https://localhost:8080/"
    },
    "executionInfo": {
     "elapsed": 8,
     "status": "ok",
     "timestamp": 1724273980898,
     "user": {
      "displayName": "Samuel Junior",
      "userId": "06048015310716032839"
     },
     "user_tz": 180
    },
    "id": "993bded1-9af7-41a0-91ab-f685a026b27b",
    "outputId": "fab4ccb3-69ee-4f5f-b63b-39981c3ef171"
   },
   "outputs": [
    {
     "name": "stdout",
     "output_type": "stream",
     "text": [
      "Rejeitar H0: A proporção de clientes satisfeitos é maior do que 0.6.\n"
     ]
    },
    {
     "data": {
      "text/plain": [
       "np.float64(2.182178902359923)"
      ]
     },
     "execution_count": 15,
     "metadata": {},
     "output_type": "execute_result"
    }
   ],
   "source": [
    "from statsmodels.stats.proportion import proportions_ztest\n",
    "\n",
    "# Dados da amostra (satisfação dos clientes)\n",
    "n_success = 70  # Número de clientes satisfeitos\n",
    "n_total = 100   # Número total de clientes\n",
    "\n",
    "# Teste de hipótese para proporção\n",
    "alpha = 0.10\n",
    "success_rate = n_success / n_total\n",
    "z_stat, p_value = proportions_ztest(n_success, n_total, 0.6, alternative='larger')\n",
    "\n",
    "if p_value < alpha:\n",
    "    print(\"Rejeitar H0: A proporção de clientes satisfeitos é maior do que 0.6.\")\n",
    "else:\n",
    "    print(\"Não rejeitar H0: A proporção de clientes satisfeitos não é maior do que 0.6.\")\n",
    "\n",
    "z_stat"
   ]
  },
  {
   "cell_type": "markdown",
   "id": "4ccea1a6-d088-4277-b166-e9a6f490e97c",
   "metadata": {
    "id": "4ccea1a6-d088-4277-b166-e9a6f490e97c"
   },
   "source": [
    "# Usando Kaggle\n",
    "\n",
    "https://www.kaggle.com/datasets/heptapod/titanic"
   ]
  },
  {
   "cell_type": "code",
   "execution_count": 17,
   "id": "4b854e6e-bced-4333-bb0d-70d1dca9dcab",
   "metadata": {
    "colab": {
     "base_uri": "https://localhost:8080/"
    },
    "executionInfo": {
     "elapsed": 269,
     "status": "ok",
     "timestamp": 1729207136537,
     "user": {
      "displayName": "Samuel Junior",
      "userId": "06048015310716032839"
     },
     "user_tz": 180
    },
    "id": "4b854e6e-bced-4333-bb0d-70d1dca9dcab",
    "outputId": "42956675-c633-47a2-81bb-c1193d7deb71"
   },
   "outputs": [
    {
     "name": "stdout",
     "output_type": "stream",
     "text": [
      "Não rejeitar H0: Não há evidências de diferença significativa nas médias de idade entre os grupos.\n"
     ]
    },
    {
     "data": {
      "text/plain": [
       "(np.float64(30.68420062695925),\n",
       " np.float64(30.24625140291807),\n",
       " np.float64(0.5921463153554066))"
      ]
     },
     "execution_count": 17,
     "metadata": {},
     "output_type": "execute_result"
    }
   ],
   "source": [
    "# Carregar o dataset do Titanic do Kaggle\n",
    "titanic_data = pd.read_csv('./titanic.csv')\n",
    "\n",
    "# Remover linhas com valores ausentes na coluna 'Age' e 'Survived'\n",
    "titanic_data = titanic_data.dropna(subset=['Age', 'sibsp'])\n",
    "\n",
    "# Dividir o conjunto de dados em dois grupos: sobreviventes e não sobreviventes\n",
    "survived = titanic_data[titanic_data['sibsp'] == 1]['Age']\n",
    "not_survived = titanic_data[titanic_data['sibsp'] == 0]['Age']\n",
    "\n",
    "# Teste de hipótese para comparar as médias de idade entre os grupos de sobreviventes e não sobreviventes\n",
    "t_stat, p_value = stats.ttest_ind(survived, not_survived)\n",
    "\n",
    "# Decisão com base no valor p\n",
    "alpha = 0.05\n",
    "if p_value < alpha:\n",
    "    print(\"Rejeitar H0: As médias de idade são significativamente diferentes entre os grupos.\")\n",
    "else:\n",
    "    print(\"Não rejeitar H0: Não há evidências de diferença significativa nas médias de idade entre os grupos.\")\n",
    "\n",
    "survived.mean(),not_survived.mean(),p_value"
   ]
  }
 ],
 "metadata": {
  "colab": {
   "provenance": []
  },
  "kernelspec": {
   "display_name": "Python 3",
   "language": "python",
   "name": "python3"
  },
  "language_info": {
   "codemirror_mode": {
    "name": "ipython",
    "version": 3
   },
   "file_extension": ".py",
   "mimetype": "text/x-python",
   "name": "python",
   "nbconvert_exporter": "python",
   "pygments_lexer": "ipython3",
   "version": "3.12.10"
  }
 },
 "nbformat": 4,
 "nbformat_minor": 5
}
